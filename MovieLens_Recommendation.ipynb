{
 "cells": [
  {
   "cell_type": "markdown",
   "metadata": {},
   "source": [
    "# Movie Recommender System\n",
    "## Introduction\n",
    "“What movie should I watch this evening?” \n",
    "\n",
    "Have you ever had to answer this question at least once when you came home from work? As for me — yes, and more than once. From Netflix to Hulu, the need to build robust movie recommendation systems is extremely important given the huge demand for personalized content of modern consumers.\n",
    "This project aims to build a movie recommendation system using the MovieLens dataset. We will implement collaborative filtering, a popular technique that recommends movies based on a users ratings. By analyzing patterns in how users rate different movies, we can suggest the top 5 movies that a user is most likely to enjoy."
   ]
  },
  {
   "cell_type": "markdown",
   "metadata": {},
   "source": [
    "# Business Problem\n",
    "Irrelevant movie recommendations could lead to lower watch times and users disengaging from streaming plartforms. The aim is to implement a recommendation system that will improve user satisfaction by making relevant recommendations to users leading to high watch times and customer retenton.\n"
   ]
  },
  {
   "cell_type": "markdown",
   "metadata": {},
   "source": [
    "# Business Objective\n",
    "The business objectives are:\n",
    "- To create a Movie Recommendation System.\n",
    "- Predict the rating that a user would give to a movie that he has not yet rated.\n",
    "- Minimize the difference between predicted and actual rating (RMSE and MAPE)"
   ]
  },
  {
   "cell_type": "markdown",
   "metadata": {},
   "source": [
    "# Data Understanding\n",
    "This dataset (ml-20m) utilizes information from IMDb and TMDb and describes 5-star rating and free-text tagging activity from MovieLens, a movie recommendation service. It contains 100836 ratings and 3683 tag applications across 9742 movies.\n",
    "- [Movielens](https://grouplens.org/datasets/movielens/latest/)"
   ]
  },
  {
   "cell_type": "markdown",
   "metadata": {},
   "source": [
    "We start by importing the necessary libraries:\n",
    "- Pandas and Numpy for data handling and numerical operations.\n",
    "- Matplotlib and Seaborn for visualization.\n",
    "- Surprise for Collaborative Filtering (CF) models such as Singular Value Decomposition (SVD).\n",
    "- Sklearn for preprocessing and evaluation metrics."
   ]
  },
  {
   "cell_type": "code",
   "execution_count": 1,
   "metadata": {},
   "outputs": [],
   "source": [
    "import pandas as pd\n",
    "import numpy as np\n",
    "import matplotlib.pyplot as plt\n",
    "import seaborn as sns\n",
    "from surprise import SVD, Dataset, Reader, accuracy\n",
    "from surprise.model_selection import cross_validate, GridSearchCV\n",
    "from sklearn.preprocessing import MultiLabelBinarizer\n",
    "from sklearn.metrics.pairwise import cosine_similarity\n",
    "from sklearn.metrics import mean_squared_error, mean_absolute_error\n",
    "from collections import Counter\n",
    "import random"
   ]
  },
  {
   "cell_type": "markdown",
   "metadata": {},
   "source": [
    "The two datasets used are:\n",
    "- **ratings.csv:** Contains user ratings for movies.\n",
    "- **movies.csv:** Contains movie information, including titles and genres."
   ]
  },
  {
   "cell_type": "code",
   "execution_count": 2,
   "metadata": {},
   "outputs": [],
   "source": [
    "# loading the data\n",
    "ratings = pd.read_csv('Data/ratings.csv')\n",
    "movies = pd.read_csv('Data/movies.csv')"
   ]
  },
  {
   "cell_type": "code",
   "execution_count": 3,
   "metadata": {},
   "outputs": [
    {
     "data": {
      "text/html": [
       "<div>\n",
       "<style scoped>\n",
       "    .dataframe tbody tr th:only-of-type {\n",
       "        vertical-align: middle;\n",
       "    }\n",
       "\n",
       "    .dataframe tbody tr th {\n",
       "        vertical-align: top;\n",
       "    }\n",
       "\n",
       "    .dataframe thead th {\n",
       "        text-align: right;\n",
       "    }\n",
       "</style>\n",
       "<table border=\"1\" class=\"dataframe\">\n",
       "  <thead>\n",
       "    <tr style=\"text-align: right;\">\n",
       "      <th></th>\n",
       "      <th>userId</th>\n",
       "      <th>movieId</th>\n",
       "      <th>rating</th>\n",
       "      <th>timestamp</th>\n",
       "    </tr>\n",
       "  </thead>\n",
       "  <tbody>\n",
       "    <tr>\n",
       "      <th>0</th>\n",
       "      <td>1</td>\n",
       "      <td>1</td>\n",
       "      <td>4.0</td>\n",
       "      <td>964982703</td>\n",
       "    </tr>\n",
       "    <tr>\n",
       "      <th>1</th>\n",
       "      <td>1</td>\n",
       "      <td>3</td>\n",
       "      <td>4.0</td>\n",
       "      <td>964981247</td>\n",
       "    </tr>\n",
       "    <tr>\n",
       "      <th>2</th>\n",
       "      <td>1</td>\n",
       "      <td>6</td>\n",
       "      <td>4.0</td>\n",
       "      <td>964982224</td>\n",
       "    </tr>\n",
       "    <tr>\n",
       "      <th>3</th>\n",
       "      <td>1</td>\n",
       "      <td>47</td>\n",
       "      <td>5.0</td>\n",
       "      <td>964983815</td>\n",
       "    </tr>\n",
       "    <tr>\n",
       "      <th>4</th>\n",
       "      <td>1</td>\n",
       "      <td>50</td>\n",
       "      <td>5.0</td>\n",
       "      <td>964982931</td>\n",
       "    </tr>\n",
       "  </tbody>\n",
       "</table>\n",
       "</div>"
      ],
      "text/plain": [
       "   userId  movieId  rating  timestamp\n",
       "0       1        1     4.0  964982703\n",
       "1       1        3     4.0  964981247\n",
       "2       1        6     4.0  964982224\n",
       "3       1       47     5.0  964983815\n",
       "4       1       50     5.0  964982931"
      ]
     },
     "execution_count": 3,
     "metadata": {},
     "output_type": "execute_result"
    }
   ],
   "source": [
    "ratings.head()"
   ]
  },
  {
   "cell_type": "code",
   "execution_count": 4,
   "metadata": {},
   "outputs": [
    {
     "data": {
      "text/html": [
       "<div>\n",
       "<style scoped>\n",
       "    .dataframe tbody tr th:only-of-type {\n",
       "        vertical-align: middle;\n",
       "    }\n",
       "\n",
       "    .dataframe tbody tr th {\n",
       "        vertical-align: top;\n",
       "    }\n",
       "\n",
       "    .dataframe thead th {\n",
       "        text-align: right;\n",
       "    }\n",
       "</style>\n",
       "<table border=\"1\" class=\"dataframe\">\n",
       "  <thead>\n",
       "    <tr style=\"text-align: right;\">\n",
       "      <th></th>\n",
       "      <th>movieId</th>\n",
       "      <th>title</th>\n",
       "      <th>genres</th>\n",
       "    </tr>\n",
       "  </thead>\n",
       "  <tbody>\n",
       "    <tr>\n",
       "      <th>0</th>\n",
       "      <td>1</td>\n",
       "      <td>Toy Story (1995)</td>\n",
       "      <td>Adventure|Animation|Children|Comedy|Fantasy</td>\n",
       "    </tr>\n",
       "    <tr>\n",
       "      <th>1</th>\n",
       "      <td>2</td>\n",
       "      <td>Jumanji (1995)</td>\n",
       "      <td>Adventure|Children|Fantasy</td>\n",
       "    </tr>\n",
       "    <tr>\n",
       "      <th>2</th>\n",
       "      <td>3</td>\n",
       "      <td>Grumpier Old Men (1995)</td>\n",
       "      <td>Comedy|Romance</td>\n",
       "    </tr>\n",
       "    <tr>\n",
       "      <th>3</th>\n",
       "      <td>4</td>\n",
       "      <td>Waiting to Exhale (1995)</td>\n",
       "      <td>Comedy|Drama|Romance</td>\n",
       "    </tr>\n",
       "    <tr>\n",
       "      <th>4</th>\n",
       "      <td>5</td>\n",
       "      <td>Father of the Bride Part II (1995)</td>\n",
       "      <td>Comedy</td>\n",
       "    </tr>\n",
       "  </tbody>\n",
       "</table>\n",
       "</div>"
      ],
      "text/plain": [
       "   movieId                               title  \\\n",
       "0        1                    Toy Story (1995)   \n",
       "1        2                      Jumanji (1995)   \n",
       "2        3             Grumpier Old Men (1995)   \n",
       "3        4            Waiting to Exhale (1995)   \n",
       "4        5  Father of the Bride Part II (1995)   \n",
       "\n",
       "                                        genres  \n",
       "0  Adventure|Animation|Children|Comedy|Fantasy  \n",
       "1                   Adventure|Children|Fantasy  \n",
       "2                               Comedy|Romance  \n",
       "3                         Comedy|Drama|Romance  \n",
       "4                                       Comedy  "
      ]
     },
     "execution_count": 4,
     "metadata": {},
     "output_type": "execute_result"
    }
   ],
   "source": [
    "movies.head()"
   ]
  },
  {
   "cell_type": "markdown",
   "metadata": {},
   "source": [
    "### Exploratory Data Analysis\n",
    "In this section, we explore the datasets in order to get a guide for model development. We'll look at the distribution of ratings, the number of movies and users, and conduct a genre analysis."
   ]
  },
  {
   "cell_type": "markdown",
   "metadata": {},
   "source": [
    "**Dropping Irrelevant Columns**  \n",
    "The timestamp column in the ratings dataset is dropped since it's not relevant to the analysis."
   ]
  },
  {
   "cell_type": "code",
   "execution_count": 5,
   "metadata": {},
   "outputs": [],
   "source": [
    "# Dropping timestamp column\n",
    "ratings.drop('timestamp', axis = 1, inplace = True)"
   ]
  },
  {
   "cell_type": "markdown",
   "metadata": {},
   "source": [
    "**Dataset Overview**  \n",
    "Here, the following is computed about the dataset:\n",
    "- The total number of ratings in the dataset.\n",
    "- The number of unique movies that have been rated.\n",
    "- The number of unique users who have provided ratings."
   ]
  },
  {
   "cell_type": "code",
   "execution_count": 6,
   "metadata": {},
   "outputs": [
    {
     "name": "stdout",
     "output_type": "stream",
     "text": [
      "number of ratings: 100836\n",
      "number of movies: 9742\n",
      "number of users: 610\n"
     ]
    }
   ],
   "source": [
    "n_ratings = len(ratings)\n",
    "n_movies = movies['movieId'].nunique()\n",
    "n_users = ratings['userId'].nunique()\n",
    "\n",
    "print(f'number of ratings: {n_ratings}')\n",
    "print(f'number of movies: {n_movies}')\n",
    "print(f'number of users: {n_users}')"
   ]
  },
  {
   "cell_type": "markdown",
   "metadata": {},
   "source": [
    "As part of the dataset overview, we also plot a distribution of User Ratings and Movie Ratings.\n",
    "\n",
    "* Plotting the distribution of user ratings will help identify whether it's most users contributing a few ratings or if it's users rating a significant number of movies.  \n",
    "\n",
    "* Plotting movie ratings distribution will help identify whether it's a small number of movies receiving the majority of ratings or if the ratings are evenly distributed."
   ]
  },
  {
   "cell_type": "code",
   "execution_count": 7,
   "metadata": {},
   "outputs": [
    {
     "data": {
      "image/png": "[encoded data removed]",
      "text/plain": [
       "<Figure size 720x360 with 1 Axes>"
      ]
     },
     "metadata": {
      "needs_background": "light"
     },
     "output_type": "display_data"
    }
   ],
   "source": [
    "# Compute the number of ratings\n",
    "user_rating_counts = ratings['userId'].value_counts()\n",
    "\n",
    "plt.figure(figsize = (10, 5))\n",
    "sns.histplot(user_rating_counts, bins = 50, kde = True, color = 'blue')\n",
    "plt.xlabel(\"Number of Ratings per User\")\n",
    "plt.ylabel(\"Frequency\")\n",
    "plt.title(\"Distribution of User Ratings Count\")\n",
    "plt.show()"
   ]
  },
  {
   "cell_type": "markdown",
   "metadata": {},
   "source": [
    "From the above plot, we can see that most users rate very few movies, and few users rate many movies. This shows that the dataset has a lot of users with little interaction."
   ]
  },
  {
   "cell_type": "code",
   "execution_count": 8,
   "metadata": {},
   "outputs": [
    {
     "data": {
      "image/png": "[encoded data removed]",
      "text/plain": [
       "<Figure size 720x360 with 1 Axes>"
      ]
     },
     "metadata": {
      "needs_background": "light"
     },
     "output_type": "display_data"
    }
   ],
   "source": [
    "# Compute ratings per movie\n",
    "movie_rating_counts = ratings['movieId'].value_counts()\n",
    "\n",
    "plt.figure(figsize = (10, 5))\n",
    "sns.histplot(movie_rating_counts, bins = 50, kde = True, color = 'steelblue')\n",
    "plt.xlabel(\"Number of Ratings per Movie\")\n",
    "plt.ylabel(\"Frequency\")\n",
    "plt.title(\"Distribution of Movie Rating Counts\")\n",
    "plt.grid(True)\n",
    "\n",
    "plt.show()"
   ]
  },
  {
   "cell_type": "markdown",
   "metadata": {},
   "source": [
    "From the above plot, very many movies have few ratings while few movies have many ratings.\n",
    "******************************\n",
    "\n",
    "Plotting a ratings distribution visualization will also be helpful in understanding whether users tend to give positive, neutral or negative ratings."
   ]
  },
  {
   "cell_type": "code",
   "execution_count": 9,
   "metadata": {},
   "outputs": [
    {
     "data": {
      "image/png": "[encoded data removed]",
      "text/plain": [
       "<Figure size 432x288 with 1 Axes>"
      ]
     },
     "metadata": {
      "needs_background": "light"
     },
     "output_type": "display_data"
    }
   ],
   "source": [
    "sns.countplot(x = 'rating', data = ratings, palette='viridis')\n",
    "plt.title('Ratings Distribution')\n",
    "plt.show()"
   ]
  },
  {
   "cell_type": "code",
   "execution_count": 10,
   "metadata": {},
   "outputs": [
    {
     "name": "stdout",
     "output_type": "stream",
     "text": [
      "average movie rating:  3.5\n"
     ]
    }
   ],
   "source": [
    "# Average movie rating\n",
    "print('average movie rating: ', round(ratings['rating'].mean(), 2))"
   ]
  },
  {
   "cell_type": "markdown",
   "metadata": {},
   "source": [
    "The mean rating is 3.5 on a scale of 1 - 5. Most movies recieve a rating of 4.0 followed by 3.0. It is possibile that users are generous with their ratings, giving a 3 if they don't really like a movie, 4 if the movie was alright and 5 if they really enjoyed the movie."
   ]
  },
  {
   "cell_type": "code",
   "execution_count": 11,
   "metadata": {},
   "outputs": [
    {
     "data": {
      "image/png": "[encoded data removed]",
      "text/plain": [
       "<Figure size 864x432 with 1 Axes>"
      ]
     },
     "metadata": {
      "needs_background": "light"
     },
     "output_type": "display_data"
    }
   ],
   "source": [
    "# Get top 10 most rated movies\n",
    "top_movies = ratings['movieId'].value_counts().head(10).index\n",
    "top_movies_df = movies[movies['movieId'].isin(top_movies)].copy()\n",
    "top_movies_df['num_ratings'] = ratings[ratings['movieId'].isin(top_movies)]['movieId'].value_counts().values\n",
    "\n",
    "plt.figure(figsize = (12, 6))\n",
    "sns.barplot(x = 'num_ratings', y = 'title', data = top_movies_df, palette = 'viridis')\n",
    "plt.xlabel(\"Number of Ratings\")\n",
    "plt.ylabel(\"Movie Title\")\n",
    "plt.title(\"Top 10 Most Rated Movies\")\n",
    "plt.show()"
   ]
  },
  {
   "cell_type": "markdown",
   "metadata": {},
   "source": [
    "@@@@@@@@@@@@@"
   ]
  },
  {
   "cell_type": "markdown",
   "metadata": {},
   "source": [
    "**Highest and Lowest Rated Movies**"
   ]
  },
  {
   "cell_type": "code",
   "execution_count": 12,
   "metadata": {},
   "outputs": [
    {
     "data": {
      "text/html": [
       "<div>\n",
       "<style scoped>\n",
       "    .dataframe tbody tr th:only-of-type {\n",
       "        vertical-align: middle;\n",
       "    }\n",
       "\n",
       "    .dataframe tbody tr th {\n",
       "        vertical-align: top;\n",
       "    }\n",
       "\n",
       "    .dataframe thead th {\n",
       "        text-align: right;\n",
       "    }\n",
       "</style>\n",
       "<table border=\"1\" class=\"dataframe\">\n",
       "  <thead>\n",
       "    <tr style=\"text-align: right;\">\n",
       "      <th></th>\n",
       "      <th>userId</th>\n",
       "      <th>movieId</th>\n",
       "      <th>rating</th>\n",
       "      <th>title</th>\n",
       "      <th>genres</th>\n",
       "    </tr>\n",
       "  </thead>\n",
       "  <tbody>\n",
       "    <tr>\n",
       "      <th>0</th>\n",
       "      <td>1</td>\n",
       "      <td>1</td>\n",
       "      <td>4.0</td>\n",
       "      <td>Toy Story (1995)</td>\n",
       "      <td>Adventure|Animation|Children|Comedy|Fantasy</td>\n",
       "    </tr>\n",
       "    <tr>\n",
       "      <th>1</th>\n",
       "      <td>5</td>\n",
       "      <td>1</td>\n",
       "      <td>4.0</td>\n",
       "      <td>Toy Story (1995)</td>\n",
       "      <td>Adventure|Animation|Children|Comedy|Fantasy</td>\n",
       "    </tr>\n",
       "    <tr>\n",
       "      <th>2</th>\n",
       "      <td>7</td>\n",
       "      <td>1</td>\n",
       "      <td>4.5</td>\n",
       "      <td>Toy Story (1995)</td>\n",
       "      <td>Adventure|Animation|Children|Comedy|Fantasy</td>\n",
       "    </tr>\n",
       "    <tr>\n",
       "      <th>3</th>\n",
       "      <td>15</td>\n",
       "      <td>1</td>\n",
       "      <td>2.5</td>\n",
       "      <td>Toy Story (1995)</td>\n",
       "      <td>Adventure|Animation|Children|Comedy|Fantasy</td>\n",
       "    </tr>\n",
       "    <tr>\n",
       "      <th>4</th>\n",
       "      <td>17</td>\n",
       "      <td>1</td>\n",
       "      <td>4.5</td>\n",
       "      <td>Toy Story (1995)</td>\n",
       "      <td>Adventure|Animation|Children|Comedy|Fantasy</td>\n",
       "    </tr>\n",
       "    <tr>\n",
       "      <th>...</th>\n",
       "      <td>...</td>\n",
       "      <td>...</td>\n",
       "      <td>...</td>\n",
       "      <td>...</td>\n",
       "      <td>...</td>\n",
       "    </tr>\n",
       "    <tr>\n",
       "      <th>100831</th>\n",
       "      <td>610</td>\n",
       "      <td>160341</td>\n",
       "      <td>2.5</td>\n",
       "      <td>Bloodmoon (1997)</td>\n",
       "      <td>Action|Thriller</td>\n",
       "    </tr>\n",
       "    <tr>\n",
       "      <th>100832</th>\n",
       "      <td>610</td>\n",
       "      <td>160527</td>\n",
       "      <td>4.5</td>\n",
       "      <td>Sympathy for the Underdog (1971)</td>\n",
       "      <td>Action|Crime|Drama</td>\n",
       "    </tr>\n",
       "    <tr>\n",
       "      <th>100833</th>\n",
       "      <td>610</td>\n",
       "      <td>160836</td>\n",
       "      <td>3.0</td>\n",
       "      <td>Hazard (2005)</td>\n",
       "      <td>Action|Drama|Thriller</td>\n",
       "    </tr>\n",
       "    <tr>\n",
       "      <th>100834</th>\n",
       "      <td>610</td>\n",
       "      <td>163937</td>\n",
       "      <td>3.5</td>\n",
       "      <td>Blair Witch (2016)</td>\n",
       "      <td>Horror|Thriller</td>\n",
       "    </tr>\n",
       "    <tr>\n",
       "      <th>100835</th>\n",
       "      <td>610</td>\n",
       "      <td>163981</td>\n",
       "      <td>3.5</td>\n",
       "      <td>31 (2016)</td>\n",
       "      <td>Horror</td>\n",
       "    </tr>\n",
       "  </tbody>\n",
       "</table>\n",
       "<p>100836 rows × 5 columns</p>\n",
       "</div>"
      ],
      "text/plain": [
       "        userId  movieId  rating                             title  \\\n",
       "0            1        1     4.0                  Toy Story (1995)   \n",
       "1            5        1     4.0                  Toy Story (1995)   \n",
       "2            7        1     4.5                  Toy Story (1995)   \n",
       "3           15        1     2.5                  Toy Story (1995)   \n",
       "4           17        1     4.5                  Toy Story (1995)   \n",
       "...        ...      ...     ...                               ...   \n",
       "100831     610   160341     2.5                  Bloodmoon (1997)   \n",
       "100832     610   160527     4.5  Sympathy for the Underdog (1971)   \n",
       "100833     610   160836     3.0                     Hazard (2005)   \n",
       "100834     610   163937     3.5                Blair Witch (2016)   \n",
       "100835     610   163981     3.5                         31 (2016)   \n",
       "\n",
       "                                             genres  \n",
       "0       Adventure|Animation|Children|Comedy|Fantasy  \n",
       "1       Adventure|Animation|Children|Comedy|Fantasy  \n",
       "2       Adventure|Animation|Children|Comedy|Fantasy  \n",
       "3       Adventure|Animation|Children|Comedy|Fantasy  \n",
       "4       Adventure|Animation|Children|Comedy|Fantasy  \n",
       "...                                             ...  \n",
       "100831                              Action|Thriller  \n",
       "100832                           Action|Crime|Drama  \n",
       "100833                        Action|Drama|Thriller  \n",
       "100834                              Horror|Thriller  \n",
       "100835                                       Horror  \n",
       "\n",
       "[100836 rows x 5 columns]"
      ]
     },
     "execution_count": 12,
     "metadata": {},
     "output_type": "execute_result"
    }
   ],
   "source": [
    "# Merging the ratings and movies dataframes\n",
    "movie_ratings = ratings.merge(movies, on = 'movieId')\n",
    "movie_ratings"
   ]
  },
  {
   "cell_type": "code",
   "execution_count": 13,
   "metadata": {},
   "outputs": [
    {
     "data": {
      "text/html": [
       "<div>\n",
       "<style scoped>\n",
       "    .dataframe tbody tr th:only-of-type {\n",
       "        vertical-align: middle;\n",
       "    }\n",
       "\n",
       "    .dataframe tbody tr th {\n",
       "        vertical-align: top;\n",
       "    }\n",
       "\n",
       "    .dataframe thead th {\n",
       "        text-align: right;\n",
       "    }\n",
       "</style>\n",
       "<table border=\"1\" class=\"dataframe\">\n",
       "  <thead>\n",
       "    <tr style=\"text-align: right;\">\n",
       "      <th></th>\n",
       "      <th>movieId</th>\n",
       "      <th>title</th>\n",
       "      <th>genres</th>\n",
       "    </tr>\n",
       "  </thead>\n",
       "  <tbody>\n",
       "    <tr>\n",
       "      <th>2689</th>\n",
       "      <td>3604</td>\n",
       "      <td>Gypsy (1962)</td>\n",
       "      <td>Musical</td>\n",
       "    </tr>\n",
       "  </tbody>\n",
       "</table>\n",
       "</div>"
      ],
      "text/plain": [
       "      movieId         title   genres\n",
       "2689     3604  Gypsy (1962)  Musical"
      ]
     },
     "execution_count": 13,
     "metadata": {},
     "output_type": "execute_result"
    }
   ],
   "source": [
    "# Finding the lowest rated movie\n",
    "mean_ratings = ratings.groupby('movieId')[['rating']].mean()\n",
    "lowest_rated = mean_ratings['rating'].idxmin()\n",
    "\n",
    "movies[movies['movieId'] == lowest_rated]"
   ]
  },
  {
   "cell_type": "code",
   "execution_count": 14,
   "metadata": {},
   "outputs": [
    {
     "data": {
      "text/html": [
       "<div>\n",
       "<style scoped>\n",
       "    .dataframe tbody tr th:only-of-type {\n",
       "        vertical-align: middle;\n",
       "    }\n",
       "\n",
       "    .dataframe tbody tr th {\n",
       "        vertical-align: top;\n",
       "    }\n",
       "\n",
       "    .dataframe thead th {\n",
       "        text-align: right;\n",
       "    }\n",
       "</style>\n",
       "<table border=\"1\" class=\"dataframe\">\n",
       "  <thead>\n",
       "    <tr style=\"text-align: right;\">\n",
       "      <th></th>\n",
       "      <th>userId</th>\n",
       "      <th>movieId</th>\n",
       "      <th>rating</th>\n",
       "    </tr>\n",
       "  </thead>\n",
       "  <tbody>\n",
       "    <tr>\n",
       "      <th>13633</th>\n",
       "      <td>89</td>\n",
       "      <td>3604</td>\n",
       "      <td>0.5</td>\n",
       "    </tr>\n",
       "  </tbody>\n",
       "</table>\n",
       "</div>"
      ],
      "text/plain": [
       "       userId  movieId  rating\n",
       "13633      89     3604     0.5"
      ]
     },
     "execution_count": 14,
     "metadata": {},
     "output_type": "execute_result"
    }
   ],
   "source": [
    "# Finding the number of ratings for the lowest rated movie\n",
    "ratings[ratings['movieId'] == lowest_rated]"
   ]
  },
  {
   "cell_type": "markdown",
   "metadata": {},
   "source": [
    "The lowest rated movie only has one rating."
   ]
  },
  {
   "cell_type": "code",
   "execution_count": 15,
   "metadata": {},
   "outputs": [
    {
     "data": {
      "text/html": [
       "<div>\n",
       "<style scoped>\n",
       "    .dataframe tbody tr th:only-of-type {\n",
       "        vertical-align: middle;\n",
       "    }\n",
       "\n",
       "    .dataframe tbody tr th {\n",
       "        vertical-align: top;\n",
       "    }\n",
       "\n",
       "    .dataframe thead th {\n",
       "        text-align: right;\n",
       "    }\n",
       "</style>\n",
       "<table border=\"1\" class=\"dataframe\">\n",
       "  <thead>\n",
       "    <tr style=\"text-align: right;\">\n",
       "      <th></th>\n",
       "      <th>movieId</th>\n",
       "      <th>title</th>\n",
       "      <th>genres</th>\n",
       "    </tr>\n",
       "  </thead>\n",
       "  <tbody>\n",
       "    <tr>\n",
       "      <th>48</th>\n",
       "      <td>53</td>\n",
       "      <td>Lamerica (1994)</td>\n",
       "      <td>Adventure|Drama</td>\n",
       "    </tr>\n",
       "  </tbody>\n",
       "</table>\n",
       "</div>"
      ],
      "text/plain": [
       "    movieId            title           genres\n",
       "48       53  Lamerica (1994)  Adventure|Drama"
      ]
     },
     "execution_count": 15,
     "metadata": {},
     "output_type": "execute_result"
    }
   ],
   "source": [
    "# Finding the highest rated movie\n",
    "highest_rated = mean_ratings['rating'].idxmax()\n",
    "movies[movies['movieId'] == highest_rated]"
   ]
  },
  {
   "cell_type": "code",
   "execution_count": 16,
   "metadata": {},
   "outputs": [
    {
     "data": {
      "text/html": [
       "<div>\n",
       "<style scoped>\n",
       "    .dataframe tbody tr th:only-of-type {\n",
       "        vertical-align: middle;\n",
       "    }\n",
       "\n",
       "    .dataframe tbody tr th {\n",
       "        vertical-align: top;\n",
       "    }\n",
       "\n",
       "    .dataframe thead th {\n",
       "        text-align: right;\n",
       "    }\n",
       "</style>\n",
       "<table border=\"1\" class=\"dataframe\">\n",
       "  <thead>\n",
       "    <tr style=\"text-align: right;\">\n",
       "      <th></th>\n",
       "      <th>userId</th>\n",
       "      <th>movieId</th>\n",
       "      <th>rating</th>\n",
       "    </tr>\n",
       "  </thead>\n",
       "  <tbody>\n",
       "    <tr>\n",
       "      <th>13368</th>\n",
       "      <td>85</td>\n",
       "      <td>53</td>\n",
       "      <td>5.0</td>\n",
       "    </tr>\n",
       "    <tr>\n",
       "      <th>96115</th>\n",
       "      <td>603</td>\n",
       "      <td>53</td>\n",
       "      <td>5.0</td>\n",
       "    </tr>\n",
       "  </tbody>\n",
       "</table>\n",
       "</div>"
      ],
      "text/plain": [
       "       userId  movieId  rating\n",
       "13368      85       53     5.0\n",
       "96115     603       53     5.0"
      ]
     },
     "execution_count": 16,
     "metadata": {},
     "output_type": "execute_result"
    }
   ],
   "source": [
    "ratings[ratings['movieId'] == highest_rated]"
   ]
  },
  {
   "cell_type": "markdown",
   "metadata": {},
   "source": [
    "The highest rated movie only has two ratings."
   ]
  },
  {
   "cell_type": "code",
   "execution_count": 17,
   "metadata": {},
   "outputs": [
    {
     "data": {
      "text/html": [
       "<div>\n",
       "<style scoped>\n",
       "    .dataframe tbody tr th:only-of-type {\n",
       "        vertical-align: middle;\n",
       "    }\n",
       "\n",
       "    .dataframe tbody tr th {\n",
       "        vertical-align: top;\n",
       "    }\n",
       "\n",
       "    .dataframe thead th {\n",
       "        text-align: right;\n",
       "    }\n",
       "</style>\n",
       "<table border=\"1\" class=\"dataframe\">\n",
       "  <thead>\n",
       "    <tr style=\"text-align: right;\">\n",
       "      <th></th>\n",
       "      <th>count</th>\n",
       "      <th>mean_rating</th>\n",
       "    </tr>\n",
       "    <tr>\n",
       "      <th>movieId</th>\n",
       "      <th></th>\n",
       "      <th></th>\n",
       "    </tr>\n",
       "  </thead>\n",
       "  <tbody>\n",
       "    <tr>\n",
       "      <th>1</th>\n",
       "      <td>215</td>\n",
       "      <td>3.920930</td>\n",
       "    </tr>\n",
       "    <tr>\n",
       "      <th>2</th>\n",
       "      <td>110</td>\n",
       "      <td>3.431818</td>\n",
       "    </tr>\n",
       "    <tr>\n",
       "      <th>3</th>\n",
       "      <td>52</td>\n",
       "      <td>3.259615</td>\n",
       "    </tr>\n",
       "    <tr>\n",
       "      <th>4</th>\n",
       "      <td>7</td>\n",
       "      <td>2.357143</td>\n",
       "    </tr>\n",
       "    <tr>\n",
       "      <th>5</th>\n",
       "      <td>49</td>\n",
       "      <td>3.071429</td>\n",
       "    </tr>\n",
       "  </tbody>\n",
       "</table>\n",
       "</div>"
      ],
      "text/plain": [
       "         count  mean_rating\n",
       "movieId                    \n",
       "1          215     3.920930\n",
       "2          110     3.431818\n",
       "3           52     3.259615\n",
       "4            7     2.357143\n",
       "5           49     3.071429"
      ]
     },
     "execution_count": 17,
     "metadata": {},
     "output_type": "execute_result"
    }
   ],
   "source": [
    "movie_stats = ratings.groupby('movieId')['rating'].agg(['count', 'mean'])\n",
    "movie_stats.columns = ['count', 'mean_rating']\n",
    "movie_stats.head()"
   ]
  },
  {
   "cell_type": "markdown",
   "metadata": {},
   "source": [
    "Since a simple average may not tell the full story for movies with few ratings, a better approach to evaluating movie popularity is using the [Bayesian Average.](https://en.wikipedia.org/wiki/Bayesian_average#:~:text=A%20Bayesian%20average%20is%20a,available%20data%20set%20is%20small.) which smooths the ratings by pulling them towards the global average(m).\n",
    "\n",
    "$$\n",
    "\\text{Bayesian Avg} = \\frac{C \\cdot m + \\sum \\text{ratings}}{C + n}\n",
    "$$\n",
    "\n",
    "Where:\n",
    "- **𝐶:** The prior count (also called the weight). This is the average number of ratings per movie across the dataset.\n",
    "- **𝑚:** The prior mean (expected value). This is the average rating across all movies in the dataset.\n",
    "- **∑ ratings:** The sum of all ratings for a specific movie.\n",
    "- **𝑛:** The number of ratings for that specific movie."
   ]
  },
  {
   "cell_type": "code",
   "execution_count": 18,
   "metadata": {},
   "outputs": [
    {
     "name": "stdout",
     "output_type": "stream",
     "text": [
      "average number of ratings for a certain movie: 10.369806663924312\n",
      "average rating for a certain movie: 3.262448274810963\n"
     ]
    }
   ],
   "source": [
    "C = movie_stats['count'].mean()\n",
    "m = movie_stats['mean_rating'].mean()\n",
    "\n",
    "print(f'average number of ratings for a certain movie: {C}')\n",
    "print(f'average rating for a certain movie: {m}')\n",
    "\n",
    "def bayesian_avg(ratings):\n",
    "    bayesian_avg = (C*m+ratings.sum())/(C+ ratings.count())\n",
    "    return bayesian_avg"
   ]
  },
  {
   "cell_type": "markdown",
   "metadata": {},
   "source": [
    "Now to find the bayesian average rating for a movie that only has two ratings, both being 5"
   ]
  },
  {
   "cell_type": "code",
   "execution_count": 19,
   "metadata": {},
   "outputs": [
    {
     "data": {
      "text/plain": [
       "3.5433826131392228"
      ]
     },
     "execution_count": 19,
     "metadata": {},
     "output_type": "execute_result"
    }
   ],
   "source": [
    "sample = pd.Series([5, 5])\n",
    "bayesian_avg(sample)"
   ]
  },
  {
   "cell_type": "markdown",
   "metadata": {},
   "source": [
    "This shows that 'Lamerica' is not truly the highest rated movie and 'Gypsy' is not truly the lowest rated movie. They just have very few ratings. The next step is to find the bayesian average for all movies and to find the highest and lowest rated movies"
   ]
  },
  {
   "cell_type": "code",
   "execution_count": 20,
   "metadata": {},
   "outputs": [
    {
     "data": {
      "text/html": [
       "<div>\n",
       "<style scoped>\n",
       "    .dataframe tbody tr th:only-of-type {\n",
       "        vertical-align: middle;\n",
       "    }\n",
       "\n",
       "    .dataframe tbody tr th {\n",
       "        vertical-align: top;\n",
       "    }\n",
       "\n",
       "    .dataframe thead th {\n",
       "        text-align: right;\n",
       "    }\n",
       "</style>\n",
       "<table border=\"1\" class=\"dataframe\">\n",
       "  <thead>\n",
       "    <tr style=\"text-align: right;\">\n",
       "      <th></th>\n",
       "      <th>movieId</th>\n",
       "      <th>bayesian_avg</th>\n",
       "    </tr>\n",
       "  </thead>\n",
       "  <tbody>\n",
       "    <tr>\n",
       "      <th>0</th>\n",
       "      <td>1</td>\n",
       "      <td>3.890632</td>\n",
       "    </tr>\n",
       "    <tr>\n",
       "      <th>1</th>\n",
       "      <td>2</td>\n",
       "      <td>3.417227</td>\n",
       "    </tr>\n",
       "    <tr>\n",
       "      <th>2</th>\n",
       "      <td>3</td>\n",
       "      <td>3.260086</td>\n",
       "    </tr>\n",
       "    <tr>\n",
       "      <th>3</th>\n",
       "      <td>4</td>\n",
       "      <td>2.897612</td>\n",
       "    </tr>\n",
       "    <tr>\n",
       "      <th>4</th>\n",
       "      <td>5</td>\n",
       "      <td>3.104793</td>\n",
       "    </tr>\n",
       "    <tr>\n",
       "      <th>...</th>\n",
       "      <td>...</td>\n",
       "      <td>...</td>\n",
       "    </tr>\n",
       "    <tr>\n",
       "      <th>9719</th>\n",
       "      <td>193581</td>\n",
       "      <td>3.327318</td>\n",
       "    </tr>\n",
       "    <tr>\n",
       "      <th>9720</th>\n",
       "      <td>193583</td>\n",
       "      <td>3.283341</td>\n",
       "    </tr>\n",
       "    <tr>\n",
       "      <th>9721</th>\n",
       "      <td>193585</td>\n",
       "      <td>3.283341</td>\n",
       "    </tr>\n",
       "    <tr>\n",
       "      <th>9722</th>\n",
       "      <td>193587</td>\n",
       "      <td>3.283341</td>\n",
       "    </tr>\n",
       "    <tr>\n",
       "      <th>9723</th>\n",
       "      <td>193609</td>\n",
       "      <td>3.327318</td>\n",
       "    </tr>\n",
       "  </tbody>\n",
       "</table>\n",
       "<p>9724 rows × 2 columns</p>\n",
       "</div>"
      ],
      "text/plain": [
       "      movieId  bayesian_avg\n",
       "0           1      3.890632\n",
       "1           2      3.417227\n",
       "2           3      3.260086\n",
       "3           4      2.897612\n",
       "4           5      3.104793\n",
       "...       ...           ...\n",
       "9719   193581      3.327318\n",
       "9720   193583      3.283341\n",
       "9721   193585      3.283341\n",
       "9722   193587      3.283341\n",
       "9723   193609      3.327318\n",
       "\n",
       "[9724 rows x 2 columns]"
      ]
     },
     "execution_count": 20,
     "metadata": {},
     "output_type": "execute_result"
    }
   ],
   "source": [
    "# Finding the Bayesian Average for all movies\n",
    "bayesian_avg_ratings = ratings.groupby('movieId')['rating'].agg(bayesian_avg).reset_index()\n",
    "bayesian_avg_ratings.columns = ['movieId', 'bayesian_avg']\n",
    "bayesian_avg_ratings"
   ]
  },
  {
   "cell_type": "code",
   "execution_count": 21,
   "metadata": {},
   "outputs": [
    {
     "data": {
      "text/html": [
       "<div>\n",
       "<style scoped>\n",
       "    .dataframe tbody tr th:only-of-type {\n",
       "        vertical-align: middle;\n",
       "    }\n",
       "\n",
       "    .dataframe tbody tr th {\n",
       "        vertical-align: top;\n",
       "    }\n",
       "\n",
       "    .dataframe thead th {\n",
       "        text-align: right;\n",
       "    }\n",
       "</style>\n",
       "<table border=\"1\" class=\"dataframe\">\n",
       "  <thead>\n",
       "    <tr style=\"text-align: right;\">\n",
       "      <th></th>\n",
       "      <th>movieId</th>\n",
       "      <th>bayesian_avg</th>\n",
       "      <th>count</th>\n",
       "      <th>mean_rating</th>\n",
       "    </tr>\n",
       "  </thead>\n",
       "  <tbody>\n",
       "    <tr>\n",
       "      <th>0</th>\n",
       "      <td>1</td>\n",
       "      <td>3.890632</td>\n",
       "      <td>215</td>\n",
       "      <td>3.920930</td>\n",
       "    </tr>\n",
       "    <tr>\n",
       "      <th>1</th>\n",
       "      <td>2</td>\n",
       "      <td>3.417227</td>\n",
       "      <td>110</td>\n",
       "      <td>3.431818</td>\n",
       "    </tr>\n",
       "    <tr>\n",
       "      <th>2</th>\n",
       "      <td>3</td>\n",
       "      <td>3.260086</td>\n",
       "      <td>52</td>\n",
       "      <td>3.259615</td>\n",
       "    </tr>\n",
       "    <tr>\n",
       "      <th>3</th>\n",
       "      <td>4</td>\n",
       "      <td>2.897612</td>\n",
       "      <td>7</td>\n",
       "      <td>2.357143</td>\n",
       "    </tr>\n",
       "    <tr>\n",
       "      <th>4</th>\n",
       "      <td>5</td>\n",
       "      <td>3.104793</td>\n",
       "      <td>49</td>\n",
       "      <td>3.071429</td>\n",
       "    </tr>\n",
       "    <tr>\n",
       "      <th>...</th>\n",
       "      <td>...</td>\n",
       "      <td>...</td>\n",
       "      <td>...</td>\n",
       "      <td>...</td>\n",
       "    </tr>\n",
       "    <tr>\n",
       "      <th>9719</th>\n",
       "      <td>193581</td>\n",
       "      <td>3.327318</td>\n",
       "      <td>1</td>\n",
       "      <td>4.000000</td>\n",
       "    </tr>\n",
       "    <tr>\n",
       "      <th>9720</th>\n",
       "      <td>193583</td>\n",
       "      <td>3.283341</td>\n",
       "      <td>1</td>\n",
       "      <td>3.500000</td>\n",
       "    </tr>\n",
       "    <tr>\n",
       "      <th>9721</th>\n",
       "      <td>193585</td>\n",
       "      <td>3.283341</td>\n",
       "      <td>1</td>\n",
       "      <td>3.500000</td>\n",
       "    </tr>\n",
       "    <tr>\n",
       "      <th>9722</th>\n",
       "      <td>193587</td>\n",
       "      <td>3.283341</td>\n",
       "      <td>1</td>\n",
       "      <td>3.500000</td>\n",
       "    </tr>\n",
       "    <tr>\n",
       "      <th>9723</th>\n",
       "      <td>193609</td>\n",
       "      <td>3.327318</td>\n",
       "      <td>1</td>\n",
       "      <td>4.000000</td>\n",
       "    </tr>\n",
       "  </tbody>\n",
       "</table>\n",
       "<p>9724 rows × 4 columns</p>\n",
       "</div>"
      ],
      "text/plain": [
       "      movieId  bayesian_avg  count  mean_rating\n",
       "0           1      3.890632    215     3.920930\n",
       "1           2      3.417227    110     3.431818\n",
       "2           3      3.260086     52     3.259615\n",
       "3           4      2.897612      7     2.357143\n",
       "4           5      3.104793     49     3.071429\n",
       "...       ...           ...    ...          ...\n",
       "9719   193581      3.327318      1     4.000000\n",
       "9720   193583      3.283341      1     3.500000\n",
       "9721   193585      3.283341      1     3.500000\n",
       "9722   193587      3.283341      1     3.500000\n",
       "9723   193609      3.327318      1     4.000000\n",
       "\n",
       "[9724 rows x 4 columns]"
      ]
     },
     "execution_count": 21,
     "metadata": {},
     "output_type": "execute_result"
    }
   ],
   "source": [
    "movie_stats = bayesian_avg_ratings.merge(movie_stats, on = 'movieId')\n",
    "movie_stats"
   ]
  },
  {
   "cell_type": "code",
   "execution_count": 22,
   "metadata": {},
   "outputs": [
    {
     "data": {
      "text/html": [
       "<div>\n",
       "<style scoped>\n",
       "    .dataframe tbody tr th:only-of-type {\n",
       "        vertical-align: middle;\n",
       "    }\n",
       "\n",
       "    .dataframe tbody tr th {\n",
       "        vertical-align: top;\n",
       "    }\n",
       "\n",
       "    .dataframe thead th {\n",
       "        text-align: right;\n",
       "    }\n",
       "</style>\n",
       "<table border=\"1\" class=\"dataframe\">\n",
       "  <thead>\n",
       "    <tr style=\"text-align: right;\">\n",
       "      <th></th>\n",
       "      <th>movieId</th>\n",
       "      <th>bayesian_avg</th>\n",
       "      <th>count</th>\n",
       "      <th>mean_rating</th>\n",
       "      <th>title</th>\n",
       "    </tr>\n",
       "  </thead>\n",
       "  <tbody>\n",
       "    <tr>\n",
       "      <th>277</th>\n",
       "      <td>318</td>\n",
       "      <td>4.392070</td>\n",
       "      <td>317</td>\n",
       "      <td>4.429022</td>\n",
       "      <td>Shawshank Redemption, The (1994)</td>\n",
       "    </tr>\n",
       "    <tr>\n",
       "      <th>659</th>\n",
       "      <td>858</td>\n",
       "      <td>4.236457</td>\n",
       "      <td>192</td>\n",
       "      <td>4.289062</td>\n",
       "      <td>Godfather, The (1972)</td>\n",
       "    </tr>\n",
       "    <tr>\n",
       "      <th>2224</th>\n",
       "      <td>2959</td>\n",
       "      <td>4.227052</td>\n",
       "      <td>218</td>\n",
       "      <td>4.272936</td>\n",
       "      <td>Fight Club (1999)</td>\n",
       "    </tr>\n",
       "    <tr>\n",
       "      <th>224</th>\n",
       "      <td>260</td>\n",
       "      <td>4.192646</td>\n",
       "      <td>251</td>\n",
       "      <td>4.231076</td>\n",
       "      <td>Star Wars: Episode IV - A New Hope (1977)</td>\n",
       "    </tr>\n",
       "    <tr>\n",
       "      <th>46</th>\n",
       "      <td>50</td>\n",
       "      <td>4.190567</td>\n",
       "      <td>204</td>\n",
       "      <td>4.237745</td>\n",
       "      <td>Usual Suspects, The (1995)</td>\n",
       "    </tr>\n",
       "    <tr>\n",
       "      <th>...</th>\n",
       "      <td>...</td>\n",
       "      <td>...</td>\n",
       "      <td>...</td>\n",
       "      <td>...</td>\n",
       "      <td>...</td>\n",
       "    </tr>\n",
       "    <tr>\n",
       "      <th>1988</th>\n",
       "      <td>2643</td>\n",
       "      <td>2.306841</td>\n",
       "      <td>16</td>\n",
       "      <td>1.687500</td>\n",
       "      <td>Superman IV: The Quest for Peace (1987)</td>\n",
       "    </tr>\n",
       "    <tr>\n",
       "      <th>1144</th>\n",
       "      <td>1499</td>\n",
       "      <td>2.296800</td>\n",
       "      <td>27</td>\n",
       "      <td>1.925926</td>\n",
       "      <td>Anaconda (1997)</td>\n",
       "    </tr>\n",
       "    <tr>\n",
       "      <th>1372</th>\n",
       "      <td>1882</td>\n",
       "      <td>2.267268</td>\n",
       "      <td>33</td>\n",
       "      <td>1.954545</td>\n",
       "      <td>Godzilla (1998)</td>\n",
       "    </tr>\n",
       "    <tr>\n",
       "      <th>2679</th>\n",
       "      <td>3593</td>\n",
       "      <td>2.224426</td>\n",
       "      <td>19</td>\n",
       "      <td>1.657895</td>\n",
       "      <td>Battlefield Earth (2000)</td>\n",
       "    </tr>\n",
       "    <tr>\n",
       "      <th>1172</th>\n",
       "      <td>1556</td>\n",
       "      <td>2.190377</td>\n",
       "      <td>19</td>\n",
       "      <td>1.605263</td>\n",
       "      <td>Speed 2: Cruise Control (1997)</td>\n",
       "    </tr>\n",
       "  </tbody>\n",
       "</table>\n",
       "<p>9724 rows × 5 columns</p>\n",
       "</div>"
      ],
      "text/plain": [
       "      movieId  bayesian_avg  count  mean_rating  \\\n",
       "277       318      4.392070    317     4.429022   \n",
       "659       858      4.236457    192     4.289062   \n",
       "2224     2959      4.227052    218     4.272936   \n",
       "224       260      4.192646    251     4.231076   \n",
       "46         50      4.190567    204     4.237745   \n",
       "...       ...           ...    ...          ...   \n",
       "1988     2643      2.306841     16     1.687500   \n",
       "1144     1499      2.296800     27     1.925926   \n",
       "1372     1882      2.267268     33     1.954545   \n",
       "2679     3593      2.224426     19     1.657895   \n",
       "1172     1556      2.190377     19     1.605263   \n",
       "\n",
       "                                          title  \n",
       "277            Shawshank Redemption, The (1994)  \n",
       "659                       Godfather, The (1972)  \n",
       "2224                          Fight Club (1999)  \n",
       "224   Star Wars: Episode IV - A New Hope (1977)  \n",
       "46                   Usual Suspects, The (1995)  \n",
       "...                                         ...  \n",
       "1988    Superman IV: The Quest for Peace (1987)  \n",
       "1144                            Anaconda (1997)  \n",
       "1372                            Godzilla (1998)  \n",
       "2679                   Battlefield Earth (2000)  \n",
       "1172             Speed 2: Cruise Control (1997)  \n",
       "\n",
       "[9724 rows x 5 columns]"
      ]
     },
     "execution_count": 22,
     "metadata": {},
     "output_type": "execute_result"
    }
   ],
   "source": [
    "# Finding the Highest rated and Lowest rated movies\n",
    "movie_stats = movie_stats.merge(movies[['movieId', 'title']])\n",
    "movie_stats.sort_values(by = 'bayesian_avg', ascending = False)"
   ]
  },
  {
   "cell_type": "markdown",
   "metadata": {},
   "source": [
    "This makes much more sense since the highest rated movies are all pretty famous and well received movies."
   ]
  },
  {
   "cell_type": "markdown",
   "metadata": {},
   "source": [
    "**Movie Genres**"
   ]
  },
  {
   "cell_type": "code",
   "execution_count": 23,
   "metadata": {},
   "outputs": [
    {
     "data": {
      "text/html": [
       "<div>\n",
       "<style scoped>\n",
       "    .dataframe tbody tr th:only-of-type {\n",
       "        vertical-align: middle;\n",
       "    }\n",
       "\n",
       "    .dataframe tbody tr th {\n",
       "        vertical-align: top;\n",
       "    }\n",
       "\n",
       "    .dataframe thead th {\n",
       "        text-align: right;\n",
       "    }\n",
       "</style>\n",
       "<table border=\"1\" class=\"dataframe\">\n",
       "  <thead>\n",
       "    <tr style=\"text-align: right;\">\n",
       "      <th></th>\n",
       "      <th>movieId</th>\n",
       "      <th>title</th>\n",
       "      <th>genres</th>\n",
       "    </tr>\n",
       "  </thead>\n",
       "  <tbody>\n",
       "    <tr>\n",
       "      <th>0</th>\n",
       "      <td>1</td>\n",
       "      <td>Toy Story (1995)</td>\n",
       "      <td>Adventure|Animation|Children|Comedy|Fantasy</td>\n",
       "    </tr>\n",
       "    <tr>\n",
       "      <th>1</th>\n",
       "      <td>2</td>\n",
       "      <td>Jumanji (1995)</td>\n",
       "      <td>Adventure|Children|Fantasy</td>\n",
       "    </tr>\n",
       "    <tr>\n",
       "      <th>2</th>\n",
       "      <td>3</td>\n",
       "      <td>Grumpier Old Men (1995)</td>\n",
       "      <td>Comedy|Romance</td>\n",
       "    </tr>\n",
       "    <tr>\n",
       "      <th>3</th>\n",
       "      <td>4</td>\n",
       "      <td>Waiting to Exhale (1995)</td>\n",
       "      <td>Comedy|Drama|Romance</td>\n",
       "    </tr>\n",
       "    <tr>\n",
       "      <th>4</th>\n",
       "      <td>5</td>\n",
       "      <td>Father of the Bride Part II (1995)</td>\n",
       "      <td>Comedy</td>\n",
       "    </tr>\n",
       "  </tbody>\n",
       "</table>\n",
       "</div>"
      ],
      "text/plain": [
       "   movieId                               title  \\\n",
       "0        1                    Toy Story (1995)   \n",
       "1        2                      Jumanji (1995)   \n",
       "2        3             Grumpier Old Men (1995)   \n",
       "3        4            Waiting to Exhale (1995)   \n",
       "4        5  Father of the Bride Part II (1995)   \n",
       "\n",
       "                                        genres  \n",
       "0  Adventure|Animation|Children|Comedy|Fantasy  \n",
       "1                   Adventure|Children|Fantasy  \n",
       "2                               Comedy|Romance  \n",
       "3                         Comedy|Drama|Romance  \n",
       "4                                       Comedy  "
      ]
     },
     "execution_count": 23,
     "metadata": {},
     "output_type": "execute_result"
    }
   ],
   "source": [
    "movies.head()"
   ]
  },
  {
   "cell_type": "markdown",
   "metadata": {},
   "source": [
    "#### Processing Movie Genres\n",
    "\n",
    "The genres column is separated by '|'. For analysis, the genres are split into lists."
   ]
  },
  {
   "cell_type": "code",
   "execution_count": 24,
   "metadata": {},
   "outputs": [
    {
     "data": {
      "text/html": [
       "<div>\n",
       "<style scoped>\n",
       "    .dataframe tbody tr th:only-of-type {\n",
       "        vertical-align: middle;\n",
       "    }\n",
       "\n",
       "    .dataframe tbody tr th {\n",
       "        vertical-align: top;\n",
       "    }\n",
       "\n",
       "    .dataframe thead th {\n",
       "        text-align: right;\n",
       "    }\n",
       "</style>\n",
       "<table border=\"1\" class=\"dataframe\">\n",
       "  <thead>\n",
       "    <tr style=\"text-align: right;\">\n",
       "      <th></th>\n",
       "      <th>movieId</th>\n",
       "      <th>title</th>\n",
       "      <th>genres</th>\n",
       "    </tr>\n",
       "  </thead>\n",
       "  <tbody>\n",
       "    <tr>\n",
       "      <th>0</th>\n",
       "      <td>1</td>\n",
       "      <td>Toy Story (1995)</td>\n",
       "      <td>[Adventure, Animation, Children, Comedy, Fantasy]</td>\n",
       "    </tr>\n",
       "    <tr>\n",
       "      <th>1</th>\n",
       "      <td>2</td>\n",
       "      <td>Jumanji (1995)</td>\n",
       "      <td>[Adventure, Children, Fantasy]</td>\n",
       "    </tr>\n",
       "    <tr>\n",
       "      <th>2</th>\n",
       "      <td>3</td>\n",
       "      <td>Grumpier Old Men (1995)</td>\n",
       "      <td>[Comedy, Romance]</td>\n",
       "    </tr>\n",
       "    <tr>\n",
       "      <th>3</th>\n",
       "      <td>4</td>\n",
       "      <td>Waiting to Exhale (1995)</td>\n",
       "      <td>[Comedy, Drama, Romance]</td>\n",
       "    </tr>\n",
       "    <tr>\n",
       "      <th>4</th>\n",
       "      <td>5</td>\n",
       "      <td>Father of the Bride Part II (1995)</td>\n",
       "      <td>[Comedy]</td>\n",
       "    </tr>\n",
       "  </tbody>\n",
       "</table>\n",
       "</div>"
      ],
      "text/plain": [
       "   movieId                               title  \\\n",
       "0        1                    Toy Story (1995)   \n",
       "1        2                      Jumanji (1995)   \n",
       "2        3             Grumpier Old Men (1995)   \n",
       "3        4            Waiting to Exhale (1995)   \n",
       "4        5  Father of the Bride Part II (1995)   \n",
       "\n",
       "                                              genres  \n",
       "0  [Adventure, Animation, Children, Comedy, Fantasy]  \n",
       "1                     [Adventure, Children, Fantasy]  \n",
       "2                                  [Comedy, Romance]  \n",
       "3                           [Comedy, Drama, Romance]  \n",
       "4                                           [Comedy]  "
      ]
     },
     "execution_count": 24,
     "metadata": {},
     "output_type": "execute_result"
    }
   ],
   "source": [
    "# Splitting genres into lists\n",
    "movies['genres'] = movies['genres'].apply(lambda x: x.split('|'))\n",
    "movies.head()"
   ]
  },
  {
   "cell_type": "code",
   "execution_count": 25,
   "metadata": {},
   "outputs": [
    {
     "name": "stdout",
     "output_type": "stream",
     "text": [
      "20\n"
     ]
    },
    {
     "data": {
      "text/plain": [
       "Counter({'Adventure': 1263,\n",
       "         'Animation': 611,\n",
       "         'Children': 664,\n",
       "         'Comedy': 3756,\n",
       "         'Fantasy': 779,\n",
       "         'Romance': 1596,\n",
       "         'Drama': 4361,\n",
       "         'Action': 1828,\n",
       "         'Crime': 1199,\n",
       "         'Thriller': 1894,\n",
       "         'Horror': 978,\n",
       "         'Mystery': 573,\n",
       "         'Sci-Fi': 980,\n",
       "         'War': 382,\n",
       "         'Musical': 334,\n",
       "         'Documentary': 440,\n",
       "         'IMAX': 158,\n",
       "         'Western': 167,\n",
       "         'Film-Noir': 87,\n",
       "         '(no genres listed)': 34})"
      ]
     },
     "execution_count": 25,
     "metadata": {},
     "output_type": "execute_result"
    }
   ],
   "source": [
    "# Count occurrences of each genre across all movies and print unique genres\n",
    "genre_counts = Counter([g for genre in movies['genres'] for g in genre])\n",
    "print(len(genre_counts))\n",
    "\n",
    "genre_counts"
   ]
  },
  {
   "cell_type": "code",
   "execution_count": 26,
   "metadata": {},
   "outputs": [
    {
     "data": {
      "text/html": [
       "<div>\n",
       "<style scoped>\n",
       "    .dataframe tbody tr th:only-of-type {\n",
       "        vertical-align: middle;\n",
       "    }\n",
       "\n",
       "    .dataframe tbody tr th {\n",
       "        vertical-align: top;\n",
       "    }\n",
       "\n",
       "    .dataframe thead th {\n",
       "        text-align: right;\n",
       "    }\n",
       "</style>\n",
       "<table border=\"1\" class=\"dataframe\">\n",
       "  <thead>\n",
       "    <tr style=\"text-align: right;\">\n",
       "      <th></th>\n",
       "      <th>genre</th>\n",
       "      <th>count</th>\n",
       "    </tr>\n",
       "  </thead>\n",
       "  <tbody>\n",
       "    <tr>\n",
       "      <th>0</th>\n",
       "      <td>Adventure</td>\n",
       "      <td>1263</td>\n",
       "    </tr>\n",
       "    <tr>\n",
       "      <th>1</th>\n",
       "      <td>Animation</td>\n",
       "      <td>611</td>\n",
       "    </tr>\n",
       "    <tr>\n",
       "      <th>2</th>\n",
       "      <td>Children</td>\n",
       "      <td>664</td>\n",
       "    </tr>\n",
       "    <tr>\n",
       "      <th>3</th>\n",
       "      <td>Comedy</td>\n",
       "      <td>3756</td>\n",
       "    </tr>\n",
       "    <tr>\n",
       "      <th>4</th>\n",
       "      <td>Fantasy</td>\n",
       "      <td>779</td>\n",
       "    </tr>\n",
       "    <tr>\n",
       "      <th>5</th>\n",
       "      <td>Romance</td>\n",
       "      <td>1596</td>\n",
       "    </tr>\n",
       "    <tr>\n",
       "      <th>6</th>\n",
       "      <td>Drama</td>\n",
       "      <td>4361</td>\n",
       "    </tr>\n",
       "    <tr>\n",
       "      <th>7</th>\n",
       "      <td>Action</td>\n",
       "      <td>1828</td>\n",
       "    </tr>\n",
       "    <tr>\n",
       "      <th>8</th>\n",
       "      <td>Crime</td>\n",
       "      <td>1199</td>\n",
       "    </tr>\n",
       "    <tr>\n",
       "      <th>9</th>\n",
       "      <td>Thriller</td>\n",
       "      <td>1894</td>\n",
       "    </tr>\n",
       "    <tr>\n",
       "      <th>10</th>\n",
       "      <td>Horror</td>\n",
       "      <td>978</td>\n",
       "    </tr>\n",
       "    <tr>\n",
       "      <th>11</th>\n",
       "      <td>Mystery</td>\n",
       "      <td>573</td>\n",
       "    </tr>\n",
       "    <tr>\n",
       "      <th>12</th>\n",
       "      <td>Sci-Fi</td>\n",
       "      <td>980</td>\n",
       "    </tr>\n",
       "    <tr>\n",
       "      <th>13</th>\n",
       "      <td>War</td>\n",
       "      <td>382</td>\n",
       "    </tr>\n",
       "    <tr>\n",
       "      <th>14</th>\n",
       "      <td>Musical</td>\n",
       "      <td>334</td>\n",
       "    </tr>\n",
       "    <tr>\n",
       "      <th>15</th>\n",
       "      <td>Documentary</td>\n",
       "      <td>440</td>\n",
       "    </tr>\n",
       "    <tr>\n",
       "      <th>16</th>\n",
       "      <td>IMAX</td>\n",
       "      <td>158</td>\n",
       "    </tr>\n",
       "    <tr>\n",
       "      <th>17</th>\n",
       "      <td>Western</td>\n",
       "      <td>167</td>\n",
       "    </tr>\n",
       "    <tr>\n",
       "      <th>18</th>\n",
       "      <td>Film-Noir</td>\n",
       "      <td>87</td>\n",
       "    </tr>\n",
       "    <tr>\n",
       "      <th>19</th>\n",
       "      <td>(no genres listed)</td>\n",
       "      <td>34</td>\n",
       "    </tr>\n",
       "  </tbody>\n",
       "</table>\n",
       "</div>"
      ],
      "text/plain": [
       "                 genre  count\n",
       "0            Adventure   1263\n",
       "1            Animation    611\n",
       "2             Children    664\n",
       "3               Comedy   3756\n",
       "4              Fantasy    779\n",
       "5              Romance   1596\n",
       "6                Drama   4361\n",
       "7               Action   1828\n",
       "8                Crime   1199\n",
       "9             Thriller   1894\n",
       "10              Horror    978\n",
       "11             Mystery    573\n",
       "12              Sci-Fi    980\n",
       "13                 War    382\n",
       "14             Musical    334\n",
       "15         Documentary    440\n",
       "16                IMAX    158\n",
       "17             Western    167\n",
       "18           Film-Noir     87\n",
       "19  (no genres listed)     34"
      ]
     },
     "execution_count": 26,
     "metadata": {},
     "output_type": "execute_result"
    }
   ],
   "source": [
    "genre_counts_df = pd.DataFrame([genre_counts]).T.reset_index()\n",
    "genre_counts_df.columns = ['genre', 'count']\n",
    "genre_counts_df"
   ]
  },
  {
   "cell_type": "code",
   "execution_count": 27,
   "metadata": {},
   "outputs": [
    {
     "data": {
      "image/png": "[encoded data removed]",
      "text/plain": [
       "<Figure size 432x288 with 1 Axes>"
      ]
     },
     "metadata": {
      "needs_background": "light"
     },
     "output_type": "display_data"
    }
   ],
   "source": [
    "# Plotting the frequency of each movie genre\n",
    "sns.barplot(x = 'genre', y = 'count', data = genre_counts_df.sort_values(by = 'count', ascending = False), palette = 'magma')\n",
    "plt.xticks(rotation = 90)\n",
    "plt.show()"
   ]
  },
  {
   "cell_type": "markdown",
   "metadata": {},
   "source": [
    "Drama is the highest rated genre, followed by comedy and Thriller. Film-Noir is the least common genre."
   ]
  },
  {
   "cell_type": "code",
   "execution_count": 28,
   "metadata": {},
   "outputs": [
    {
     "data": {
      "image/png": "[encoded data removed]",
      "text/plain": [
       "<Figure size 864x432 with 1 Axes>"
      ]
     },
     "metadata": {
      "needs_background": "light"
     },
     "output_type": "display_data"
    }
   ],
   "source": [
    "# To find the average rating per Genre\n",
    "movie_ratings = movie_ratings.assign(genres = movie_ratings[\"genres\"].str.split(\"|\")).explode(\"genres\")\n",
    "\n",
    "genre_avg_ratings = movie_ratings.groupby(\"genres\")[\"rating\"].mean().sort_values(ascending = False)\n",
    "\n",
    "# Plotting\n",
    "plt.figure(figsize = (12, 6))\n",
    "sns.barplot(x = genre_avg_ratings.values, y = genre_avg_ratings.index, palette = 'coolwarm')\n",
    "plt.xlabel(\"Average Rating\")\n",
    "plt.ylabel(\"Genre\")\n",
    "plt.title(\"Average Rating per Genre\")\n",
    "plt.show()\n"
   ]
  },
  {
   "cell_type": "markdown",
   "metadata": {},
   "source": [
    "Film-Noir, War, and Documentary have the highest average ratings although they appear least frequently in the previous graph.\n",
    "This implies that these genres have niche audiences, who enjoy these movies and rate them highly.\n"
   ]
  },
  {
   "cell_type": "markdown",
   "metadata": {},
   "source": [
    "# Creating A Recommendation Model\n",
    "The next step is to build a recommendation model by first implementing CF using SVD. The model is then evaluated using cross validation, measuring RMSE and MAE."
   ]
  },
  {
   "cell_type": "code",
   "execution_count": 29,
   "metadata": {},
   "outputs": [
    {
     "name": "stdout",
     "output_type": "stream",
     "text": [
      "Evaluating MAE, RMSE of algorithm SVD on 5 split(s).\n",
      "\n",
      "                  Fold 1  Fold 2  Fold 3  Fold 4  Fold 5  Mean    Std     \n",
      "MAE (testset)     0.6721  0.6662  0.6700  0.6755  0.6767  0.6721  0.0038  \n",
      "RMSE (testset)    0.8735  0.8693  0.8732  0.8827  0.8745  0.8746  0.0044  \n",
      "Fit time          9.22    8.65    9.30    10.70   8.35    9.24    0.81    \n",
      "Test time         0.58    0.51    0.48    0.28    0.32    0.43    0.12    \n",
      "Final Mean RMSE: 0.8746\n",
      "Final Mean MAE: 0.6721\n"
     ]
    }
   ],
   "source": [
    "# Initializing reader object for surprise.\n",
    "reader = Reader()\n",
    "data = Dataset.load_from_df(ratings[['userId', 'movieId', 'rating']], reader)\n",
    "\n",
    "# Initialize SVD model.\n",
    "model = SVD()\n",
    "\n",
    "# 5-fold cross validation.\n",
    "simple_svd_score = cross_validate(model, data, cv = 5, measures = ['MAE', 'RMSE'], verbose = True)\n",
    "\n",
    "mean_rmse = np.mean(simple_svd_score['test_rmse'])\n",
    "mean_mae = np.mean(simple_svd_score['test_mae'])\n",
    "\n",
    "\n",
    "print(f\"Final Mean RMSE: {mean_rmse:.4f}\")\n",
    "print(f\"Final Mean MAE: {mean_mae:.4f}\")"
   ]
  },
  {
   "cell_type": "markdown",
   "metadata": {},
   "source": [
    "The model has a mean RMSE of 0.87 and a mean MAE of 0.67. These are good scores and the next step is to try and improve the scores by tuning the hyperparameters using GridSearchCV."
   ]
  },
  {
   "cell_type": "code",
   "execution_count": 30,
   "metadata": {},
   "outputs": [
    {
     "name": "stdout",
     "output_type": "stream",
     "text": [
      "Best parameters: {'n_factors': 100, 'n_epochs': 20, 'lr_all': 0.005, 'reg_all': 0.05}\n",
      "Best RMSE: 0.8684\n",
      "Best MAE: 0.6675\n"
     ]
    }
   ],
   "source": [
    "# Grid of hyperparameters to search over\n",
    "param_grid = {\n",
    "    'n_factors': [20, 50, 70, 100],\n",
    "    'n_epochs': [10, 20], \n",
    "    'lr_all': [0.001, 0.002, 0.005],\n",
    "    'reg_all': [0.02, 0.05, 0.1]\n",
    "}\n",
    "\n",
    "# GridSearch cross validation\n",
    "gs = GridSearchCV(SVD, param_grid, measures=['RMSE', 'MAE'], cv=5)\n",
    "gs.fit(data)\n",
    "\n",
    "# Obtaining the best parameters\n",
    "best_params = gs.best_params['rmse']\n",
    "print(\"Best parameters:\", best_params)\n",
    "\n",
    "print(f\"Best RMSE: {gs.best_score['rmse']:.4f}\")\n",
    "print(f\"Best MAE: {gs.best_score['mae']:.4f}\")"
   ]
  },
  {
   "cell_type": "markdown",
   "metadata": {},
   "source": [
    "After hyperparameter tuning, the best model has similar values to the base SVD model. A  new model is trained using these best parameters and its performance evaluated using cross-validation."
   ]
  },
  {
   "cell_type": "code",
   "execution_count": 31,
   "metadata": {},
   "outputs": [
    {
     "name": "stdout",
     "output_type": "stream",
     "text": [
      "Evaluating RMSE, MAE of algorithm SVD on 5 split(s).\n",
      "\n",
      "                  Fold 1  Fold 2  Fold 3  Fold 4  Fold 5  Mean    Std     \n",
      "RMSE (testset)    0.8659  0.8679  0.8768  0.8691  0.8687  0.8697  0.0037  \n",
      "MAE (testset)     0.6671  0.6649  0.6724  0.6688  0.6690  0.6684  0.0025  \n",
      "Fit time          7.46    7.41    6.70    6.57    7.00    7.03    0.36    \n",
      "Test time         0.27    0.30    0.20    0.31    0.20    0.26    0.05    \n",
      "Final Mean RMSE: 0.8697\n",
      "Final Mean MAE: 0.6684\n"
     ]
    }
   ],
   "source": [
    "# Use the best hyperparameters used in GridSearch\n",
    "best_model = SVD(**best_params)\n",
    "cross_val_results = cross_validate(best_model, data, cv = 5, measures = ['RMSE', 'MAE'], verbose = True)\n",
    "\n",
    "mean_rmse = np.mean(cross_val_results['test_rmse'])\n",
    "mean_mae = np.mean(cross_val_results['test_mae'])\n",
    "\n",
    "print(f\"Final Mean RMSE: {mean_rmse:.4f}\")\n",
    "print(f\"Final Mean MAE: {mean_mae:.4f}\")"
   ]
  },
  {
   "cell_type": "markdown",
   "metadata": {},
   "source": [
    "**Generating SVD predictions**  \n",
    "The next step is to create a function that takes a user ID and generates the predicted ratings for all movies in the dataset using the SVD model."
   ]
  },
  {
   "cell_type": "code",
   "execution_count": 32,
   "metadata": {},
   "outputs": [],
   "source": [
    "def get_svd_predictions(user_id, movies, ratings, best_model):\n",
    "\n",
    "    \"\"\"\n",
    "    Parameters:\n",
    "    User_Id: The Id of the user\n",
    "    movies: The movies dataset with movie IDs and titles\n",
    "    ratings: The ratings dataset (not used but included for consistency)\n",
    "    best_model: The model with the best gridsearchcv parameters\n",
    "    \"\"\"\n",
    "\n",
    "    # Get all unique movie IDs from the movies dataset.\n",
    "    all_movie_ids = movies['movieId'].unique()\n",
    "\n",
    "    # Predict ratings for all movies using the SVD model.\n",
    "    predictions = [best_model.predict(uid = user_id, iid = mid) for mid in all_movie_ids]\n",
    "\n",
    "    # Creating a DataFrame containing the predicted ratings.\n",
    "    pred_df = pd.DataFrame([(pred.iid, pred.est) for pred in predictions], columns = ['movieId', 'svd_score'])\n",
    "\n",
    "    # merging the two dataframes to include movie titles for readability.\n",
    "    pred_df = pred_df.merge(movies[['movieId', 'title']], on = 'movieId')\n",
    "\n",
    "    return pred_df"
   ]
  },
  {
   "cell_type": "code",
   "execution_count": 33,
   "metadata": {},
   "outputs": [
    {
     "data": {
      "text/html": [
       "<div>\n",
       "<style scoped>\n",
       "    .dataframe tbody tr th:only-of-type {\n",
       "        vertical-align: middle;\n",
       "    }\n",
       "\n",
       "    .dataframe tbody tr th {\n",
       "        vertical-align: top;\n",
       "    }\n",
       "\n",
       "    .dataframe thead th {\n",
       "        text-align: right;\n",
       "    }\n",
       "</style>\n",
       "<table border=\"1\" class=\"dataframe\">\n",
       "  <thead>\n",
       "    <tr style=\"text-align: right;\">\n",
       "      <th></th>\n",
       "      <th>movieId</th>\n",
       "      <th>svd_score</th>\n",
       "      <th>title</th>\n",
       "    </tr>\n",
       "  </thead>\n",
       "  <tbody>\n",
       "    <tr>\n",
       "      <th>0</th>\n",
       "      <td>1</td>\n",
       "      <td>3.813615</td>\n",
       "      <td>Toy Story (1995)</td>\n",
       "    </tr>\n",
       "    <tr>\n",
       "      <th>1</th>\n",
       "      <td>2</td>\n",
       "      <td>3.493114</td>\n",
       "      <td>Jumanji (1995)</td>\n",
       "    </tr>\n",
       "    <tr>\n",
       "      <th>2</th>\n",
       "      <td>3</td>\n",
       "      <td>3.391805</td>\n",
       "      <td>Grumpier Old Men (1995)</td>\n",
       "    </tr>\n",
       "    <tr>\n",
       "      <th>3</th>\n",
       "      <td>4</td>\n",
       "      <td>2.966706</td>\n",
       "      <td>Waiting to Exhale (1995)</td>\n",
       "    </tr>\n",
       "    <tr>\n",
       "      <th>4</th>\n",
       "      <td>5</td>\n",
       "      <td>3.210939</td>\n",
       "      <td>Father of the Bride Part II (1995)</td>\n",
       "    </tr>\n",
       "    <tr>\n",
       "      <th>...</th>\n",
       "      <td>...</td>\n",
       "      <td>...</td>\n",
       "      <td>...</td>\n",
       "    </tr>\n",
       "    <tr>\n",
       "      <th>9737</th>\n",
       "      <td>193581</td>\n",
       "      <td>3.591986</td>\n",
       "      <td>Black Butler: Book of the Atlantic (2017)</td>\n",
       "    </tr>\n",
       "    <tr>\n",
       "      <th>9738</th>\n",
       "      <td>193583</td>\n",
       "      <td>3.490608</td>\n",
       "      <td>No Game No Life: Zero (2017)</td>\n",
       "    </tr>\n",
       "    <tr>\n",
       "      <th>9739</th>\n",
       "      <td>193585</td>\n",
       "      <td>3.545368</td>\n",
       "      <td>Flint (2017)</td>\n",
       "    </tr>\n",
       "    <tr>\n",
       "      <th>9740</th>\n",
       "      <td>193587</td>\n",
       "      <td>3.501718</td>\n",
       "      <td>Bungo Stray Dogs: Dead Apple (2018)</td>\n",
       "    </tr>\n",
       "    <tr>\n",
       "      <th>9741</th>\n",
       "      <td>193609</td>\n",
       "      <td>3.395034</td>\n",
       "      <td>Andrew Dice Clay: Dice Rules (1991)</td>\n",
       "    </tr>\n",
       "  </tbody>\n",
       "</table>\n",
       "<p>9742 rows × 3 columns</p>\n",
       "</div>"
      ],
      "text/plain": [
       "      movieId  svd_score                                      title\n",
       "0           1   3.813615                           Toy Story (1995)\n",
       "1           2   3.493114                             Jumanji (1995)\n",
       "2           3   3.391805                    Grumpier Old Men (1995)\n",
       "3           4   2.966706                   Waiting to Exhale (1995)\n",
       "4           5   3.210939         Father of the Bride Part II (1995)\n",
       "...       ...        ...                                        ...\n",
       "9737   193581   3.591986  Black Butler: Book of the Atlantic (2017)\n",
       "9738   193583   3.490608               No Game No Life: Zero (2017)\n",
       "9739   193585   3.545368                               Flint (2017)\n",
       "9740   193587   3.501718        Bungo Stray Dogs: Dead Apple (2018)\n",
       "9741   193609   3.395034        Andrew Dice Clay: Dice Rules (1991)\n",
       "\n",
       "[9742 rows x 3 columns]"
      ]
     },
     "execution_count": 33,
     "metadata": {},
     "output_type": "execute_result"
    }
   ],
   "source": [
    "get_svd_predictions(5, movies, ratings, best_model)"
   ]
  },
  {
   "cell_type": "markdown",
   "metadata": {},
   "source": [
    "These are the predicted ratings for user with userId 5"
   ]
  },
  {
   "cell_type": "markdown",
   "metadata": {},
   "source": [
    "**Computing Genre Similarity and Finding Similar Movies**  \n",
    "To incorporate content-based filtering, we compute the similarity between movies based on their genres. This allows us to recommend movies that share similar genre characteristics."
   ]
  },
  {
   "cell_type": "code",
   "execution_count": 34,
   "metadata": {},
   "outputs": [
    {
     "data": {
      "text/html": [
       "<div>\n",
       "<style scoped>\n",
       "    .dataframe tbody tr th:only-of-type {\n",
       "        vertical-align: middle;\n",
       "    }\n",
       "\n",
       "    .dataframe tbody tr th {\n",
       "        vertical-align: top;\n",
       "    }\n",
       "\n",
       "    .dataframe thead th {\n",
       "        text-align: right;\n",
       "    }\n",
       "</style>\n",
       "<table border=\"1\" class=\"dataframe\">\n",
       "  <thead>\n",
       "    <tr style=\"text-align: right;\">\n",
       "      <th></th>\n",
       "      <th>title</th>\n",
       "      <th>genres</th>\n",
       "    </tr>\n",
       "  </thead>\n",
       "  <tbody>\n",
       "    <tr>\n",
       "      <th>8219</th>\n",
       "      <td>Turbo (2013)</td>\n",
       "      <td>[Adventure, Animation, Children, Comedy, Fantasy]</td>\n",
       "    </tr>\n",
       "    <tr>\n",
       "      <th>3568</th>\n",
       "      <td>Monsters, Inc. (2001)</td>\n",
       "      <td>[Adventure, Animation, Children, Comedy, Fantasy]</td>\n",
       "    </tr>\n",
       "    <tr>\n",
       "      <th>9430</th>\n",
       "      <td>Moana (2016)</td>\n",
       "      <td>[Adventure, Animation, Children, Comedy, Fantasy]</td>\n",
       "    </tr>\n",
       "    <tr>\n",
       "      <th>3000</th>\n",
       "      <td>Emperor's New Groove, The (2000)</td>\n",
       "      <td>[Adventure, Animation, Children, Comedy, Fantasy]</td>\n",
       "    </tr>\n",
       "    <tr>\n",
       "      <th>2809</th>\n",
       "      <td>Adventures of Rocky and Bullwinkle, The (2000)</td>\n",
       "      <td>[Adventure, Animation, Children, Comedy, Fantasy]</td>\n",
       "    </tr>\n",
       "  </tbody>\n",
       "</table>\n",
       "</div>"
      ],
      "text/plain": [
       "                                               title  \\\n",
       "8219                                    Turbo (2013)   \n",
       "3568                           Monsters, Inc. (2001)   \n",
       "9430                                    Moana (2016)   \n",
       "3000                Emperor's New Groove, The (2000)   \n",
       "2809  Adventures of Rocky and Bullwinkle, The (2000)   \n",
       "\n",
       "                                                 genres  \n",
       "8219  [Adventure, Animation, Children, Comedy, Fantasy]  \n",
       "3568  [Adventure, Animation, Children, Comedy, Fantasy]  \n",
       "9430  [Adventure, Animation, Children, Comedy, Fantasy]  \n",
       "3000  [Adventure, Animation, Children, Comedy, Fantasy]  \n",
       "2809  [Adventure, Animation, Children, Comedy, Fantasy]  "
      ]
     },
     "execution_count": 34,
     "metadata": {},
     "output_type": "execute_result"
    }
   ],
   "source": [
    "def compute_genre_similarity(movies):\n",
    "\n",
    "    # Ohe using MultiLabelBinarizer\n",
    "    mlb = MultiLabelBinarizer()\n",
    "    genre_matrix = mlb.fit_transform(movies['genres'])\n",
    "\n",
    "    # Calculating genre similarity between movies\n",
    "    genre_similarity = cosine_similarity(genre_matrix, genre_matrix)\n",
    "\n",
    "    return genre_similarity\n",
    "\n",
    "# Function to find similar movies:\n",
    "def get_similar(movie, movies, genre_similarity, top_n = 5):\n",
    "    \n",
    "    \"\"\"\n",
    "    Finds movies most similar to a given movie based on genre.\n",
    "\n",
    "    Parameters:\n",
    "    movie: The title of the given movie.\n",
    "    movies: The movies dataset.\n",
    "    genre_similarity: Precomputed genre similarity matrix.\n",
    "    top_n: The number of similar movies to return.\n",
    "    \"\"\"\n",
    "    # Check if movie is in the dataset\n",
    "    if movie not in movies['title'].values:\n",
    "        return \"Movie Not Found\" \n",
    "    \n",
    "    #get indices of the top similar movies\n",
    "    movie_idx = movies.index[movies['title'] == movie][0]\n",
    "    similar_indices = genre_similarity[movie_idx].argsort()[::-1][1:top_n + 1]\n",
    "\n",
    "    return movies.iloc[similar_indices][['title', 'genres']]\n",
    "\n",
    "# compute genre similarity matrix\n",
    "similar_genres = compute_genre_similarity(movies)\n",
    "\n",
    "recommended_movies = get_similar(\"Toy Story (1995)\", movies, similar_genres)\n",
    "recommended_movies"
   ]
  },
  {
   "cell_type": "markdown",
   "metadata": {},
   "source": [
    "The output represents the movies similar to \"Toy Story\".\n",
    "\n",
    "### Cold Start Handling \n",
    "\n",
    "To make this work for new users, we'll use genre based filtering where instead of using ratings, the movies will be recommended based on global genre popularity. For returning users, their past ratings will be used to compute personalized genre scores."
   ]
  },
  {
   "cell_type": "code",
   "execution_count": 35,
   "metadata": {},
   "outputs": [
    {
     "name": "stdout",
     "output_type": "stream",
     "text": [
      "user 999999 has no ratings, using global genre preferences.\n"
     ]
    },
    {
     "data": {
      "text/html": [
       "<div>\n",
       "<style scoped>\n",
       "    .dataframe tbody tr th:only-of-type {\n",
       "        vertical-align: middle;\n",
       "    }\n",
       "\n",
       "    .dataframe tbody tr th {\n",
       "        vertical-align: top;\n",
       "    }\n",
       "\n",
       "    .dataframe thead th {\n",
       "        text-align: right;\n",
       "    }\n",
       "</style>\n",
       "<table border=\"1\" class=\"dataframe\">\n",
       "  <thead>\n",
       "    <tr style=\"text-align: right;\">\n",
       "      <th></th>\n",
       "      <th>movieId</th>\n",
       "      <th>title</th>\n",
       "      <th>genre_score</th>\n",
       "    </tr>\n",
       "  </thead>\n",
       "  <tbody>\n",
       "    <tr>\n",
       "      <th>0</th>\n",
       "      <td>1</td>\n",
       "      <td>Toy Story (1995)</td>\n",
       "      <td>0.208391</td>\n",
       "    </tr>\n",
       "    <tr>\n",
       "      <th>1</th>\n",
       "      <td>2</td>\n",
       "      <td>Jumanji (1995)</td>\n",
       "      <td>0.088743</td>\n",
       "    </tr>\n",
       "    <tr>\n",
       "      <th>2</th>\n",
       "      <td>3</td>\n",
       "      <td>Grumpier Old Men (1995)</td>\n",
       "      <td>0.268527</td>\n",
       "    </tr>\n",
       "    <tr>\n",
       "      <th>3</th>\n",
       "      <td>4</td>\n",
       "      <td>Waiting to Exhale (1995)</td>\n",
       "      <td>0.403241</td>\n",
       "    </tr>\n",
       "    <tr>\n",
       "      <th>4</th>\n",
       "      <td>5</td>\n",
       "      <td>Father of the Bride Part II (1995)</td>\n",
       "      <td>0.276886</td>\n",
       "    </tr>\n",
       "    <tr>\n",
       "      <th>...</th>\n",
       "      <td>...</td>\n",
       "      <td>...</td>\n",
       "      <td>...</td>\n",
       "    </tr>\n",
       "    <tr>\n",
       "      <th>9737</th>\n",
       "      <td>193581</td>\n",
       "      <td>Black Butler: Book of the Atlantic (2017)</td>\n",
       "      <td>0.232424</td>\n",
       "    </tr>\n",
       "    <tr>\n",
       "      <th>9738</th>\n",
       "      <td>193583</td>\n",
       "      <td>No Game No Life: Zero (2017)</td>\n",
       "      <td>0.205447</td>\n",
       "    </tr>\n",
       "    <tr>\n",
       "      <th>9739</th>\n",
       "      <td>193585</td>\n",
       "      <td>Flint (2017)</td>\n",
       "      <td>0.318679</td>\n",
       "    </tr>\n",
       "    <tr>\n",
       "      <th>9740</th>\n",
       "      <td>193587</td>\n",
       "      <td>Bungo Stray Dogs: Dead Apple (2018)</td>\n",
       "      <td>0.102097</td>\n",
       "    </tr>\n",
       "    <tr>\n",
       "      <th>9741</th>\n",
       "      <td>193609</td>\n",
       "      <td>Andrew Dice Clay: Dice Rules (1991)</td>\n",
       "      <td>0.276886</td>\n",
       "    </tr>\n",
       "  </tbody>\n",
       "</table>\n",
       "<p>9742 rows × 3 columns</p>\n",
       "</div>"
      ],
      "text/plain": [
       "      movieId                                      title  genre_score\n",
       "0           1                           Toy Story (1995)     0.208391\n",
       "1           2                             Jumanji (1995)     0.088743\n",
       "2           3                    Grumpier Old Men (1995)     0.268527\n",
       "3           4                   Waiting to Exhale (1995)     0.403241\n",
       "4           5         Father of the Bride Part II (1995)     0.276886\n",
       "...       ...                                        ...          ...\n",
       "9737   193581  Black Butler: Book of the Atlantic (2017)     0.232424\n",
       "9738   193583               No Game No Life: Zero (2017)     0.205447\n",
       "9739   193585                               Flint (2017)     0.318679\n",
       "9740   193587        Bungo Stray Dogs: Dead Apple (2018)     0.102097\n",
       "9741   193609        Andrew Dice Clay: Dice Rules (1991)     0.276886\n",
       "\n",
       "[9742 rows x 3 columns]"
      ]
     },
     "execution_count": 35,
     "metadata": {},
     "output_type": "execute_result"
    }
   ],
   "source": [
    "# Compute genre-based scores for a user based on their past ratings and genre similarity\n",
    "def get_genre_scores(user_id, ratings,  movies, genre_similarity):\n",
    "    # Get movies the user has rated\n",
    "    user_movies = ratings[ratings['userId'] == user_id].merge(movies, on = 'movieId')\n",
    "    \n",
    "    if user_movies.empty:\n",
    "        print(f\"user {user_id} has no ratings, using global genre preferences.\")\n",
    "        \n",
    "        # Computing global average genre score\n",
    "        global_genre_scores = np.mean(genre_similarity, axis = 0)\n",
    "\n",
    "        genre_df = pd.DataFrame({\n",
    "            'movieId': movies['movieId'], \n",
    "            'title': movies['title'],\n",
    "            'genre_score': global_genre_scores\n",
    "        })\n",
    "\n",
    "        return genre_df\n",
    "    \n",
    "    # Compute genre similarity scores\n",
    "    genre_scores = np.zeros(len(movies))\n",
    "\n",
    "    for movie_id in user_movies['movieId']:\n",
    "        movie_idx = movies.index[movies['movieId'] == movie_id][0]\n",
    "        genre_scores += genre_similarity[movie_idx] * user_movies[user_movies['movieId'] == movie_id]['rating'].values[0]\n",
    "\n",
    "    # Normalize\n",
    "    genre_scores /= len(user_movies)\n",
    "    \n",
    "    # Create DataFrame\n",
    "    genre_df = pd.DataFrame({\n",
    "        'movieId': movies['movieId'], \n",
    "        'title': movies['title'],\n",
    "        'genre_score': genre_scores\n",
    "    })\n",
    "\n",
    "    return genre_df\n",
    "\n",
    "genre_similarity = compute_genre_similarity(movies)\n",
    "\n",
    "get_genre_scores(999999, ratings, movies, genre_similarity)"
   ]
  },
  {
   "cell_type": "markdown",
   "metadata": {},
   "source": [
    "The output represents genre-based scores for user 3 based on their past ratings and genre similarity."
   ]
  },
  {
   "cell_type": "markdown",
   "metadata": {},
   "source": [
    "**Hybrid Recommendation System**  \n",
    "To improve recommendation quality, CF (SVD) is blended with CBF (genre similarity). This hybrid approach balances personalized predictions with genre-based similarities, helping address the cold start problem for new users.\n",
    "\n",
    "The final score for each movie is calculated using the formula:\n",
    "$$\n",
    "\\text{final score} = \\alpha \\times \\text{SVD score} + (1 - \\alpha) \\times \\text{Genre score}\n",
    "$$\n",
    "where \n",
    "𝛼 controls the weight of CF vs. CBF."
   ]
  },
  {
   "cell_type": "code",
   "execution_count": 36,
   "metadata": {},
   "outputs": [],
   "source": [
    "def hybrid_recommendations(user_id, movies, ratings, best_model, genre_similarity, alpha = 0.5):\n",
    "    \n",
    "    # Getting CF (SVD) and CBF (genre_similarity) predictions for the user\n",
    "    svd_df = get_svd_predictions(user_id, movies, ratings, best_model)\n",
    "    genre_df = get_genre_scores(user_id, ratings, movies, genre_similarity)\n",
    "\n",
    "    # merging both dataframes\n",
    "    hybrid_df = svd_df.merge(genre_df, on = 'movieId')\n",
    "\n",
    "    # Computing final score (weighted blend)\n",
    "    hybrid_df['final_score'] = alpha * hybrid_df['svd_score'] + (1 - alpha) * hybrid_df['genre_score']\n",
    "\n",
    "    # Get top recommendations\n",
    "    top_movies = hybrid_df.sort_values(by = 'final_score', ascending = False).head(10)\n",
    "\n",
    "    top_movies = top_movies.merge(movies[['movieId', 'title']], on = 'movieId')\n",
    "\n",
    "    return top_movies[['movieId', 'title', 'final_score']]\n",
    "\n"
   ]
  },
  {
   "cell_type": "code",
   "execution_count": 37,
   "metadata": {},
   "outputs": [
    {
     "data": {
      "text/html": [
       "<div>\n",
       "<style scoped>\n",
       "    .dataframe tbody tr th:only-of-type {\n",
       "        vertical-align: middle;\n",
       "    }\n",
       "\n",
       "    .dataframe tbody tr th {\n",
       "        vertical-align: top;\n",
       "    }\n",
       "\n",
       "    .dataframe thead th {\n",
       "        text-align: right;\n",
       "    }\n",
       "</style>\n",
       "<table border=\"1\" class=\"dataframe\">\n",
       "  <thead>\n",
       "    <tr style=\"text-align: right;\">\n",
       "      <th></th>\n",
       "      <th>movieId</th>\n",
       "      <th>title</th>\n",
       "      <th>final_score</th>\n",
       "      <th>userId</th>\n",
       "    </tr>\n",
       "  </thead>\n",
       "  <tbody>\n",
       "    <tr>\n",
       "      <th>0</th>\n",
       "      <td>6016</td>\n",
       "      <td>City of God (Cidade de Deus) (2002)</td>\n",
       "      <td>3.930651</td>\n",
       "      <td>1</td>\n",
       "    </tr>\n",
       "    <tr>\n",
       "      <th>1</th>\n",
       "      <td>3275</td>\n",
       "      <td>Boondock Saints, The (2000)</td>\n",
       "      <td>3.911262</td>\n",
       "      <td>1</td>\n",
       "    </tr>\n",
       "    <tr>\n",
       "      <th>2</th>\n",
       "      <td>3266</td>\n",
       "      <td>Man Bites Dog (C'est arrivé près de chez vous)...</td>\n",
       "      <td>3.908095</td>\n",
       "      <td>1</td>\n",
       "    </tr>\n",
       "    <tr>\n",
       "      <th>3</th>\n",
       "      <td>57669</td>\n",
       "      <td>In Bruges (2008)</td>\n",
       "      <td>3.892603</td>\n",
       "      <td>1</td>\n",
       "    </tr>\n",
       "    <tr>\n",
       "      <th>4</th>\n",
       "      <td>3030</td>\n",
       "      <td>Yojimbo (1961)</td>\n",
       "      <td>3.886709</td>\n",
       "      <td>1</td>\n",
       "    </tr>\n",
       "    <tr>\n",
       "      <th>...</th>\n",
       "      <td>...</td>\n",
       "      <td>...</td>\n",
       "      <td>...</td>\n",
       "      <td>...</td>\n",
       "    </tr>\n",
       "    <tr>\n",
       "      <th>5</th>\n",
       "      <td>318</td>\n",
       "      <td>Shawshank Redemption, The (1994)</td>\n",
       "      <td>3.656070</td>\n",
       "      <td>29</td>\n",
       "    </tr>\n",
       "    <tr>\n",
       "      <th>6</th>\n",
       "      <td>2028</td>\n",
       "      <td>Saving Private Ryan (1998)</td>\n",
       "      <td>3.638632</td>\n",
       "      <td>29</td>\n",
       "    </tr>\n",
       "    <tr>\n",
       "      <th>7</th>\n",
       "      <td>3147</td>\n",
       "      <td>Green Mile, The (1999)</td>\n",
       "      <td>3.637223</td>\n",
       "      <td>29</td>\n",
       "    </tr>\n",
       "    <tr>\n",
       "      <th>8</th>\n",
       "      <td>1193</td>\n",
       "      <td>One Flew Over the Cuckoo's Nest (1975)</td>\n",
       "      <td>3.626148</td>\n",
       "      <td>29</td>\n",
       "    </tr>\n",
       "    <tr>\n",
       "      <th>9</th>\n",
       "      <td>1945</td>\n",
       "      <td>On the Waterfront (1954)</td>\n",
       "      <td>3.622916</td>\n",
       "      <td>29</td>\n",
       "    </tr>\n",
       "  </tbody>\n",
       "</table>\n",
       "<p>290 rows × 4 columns</p>\n",
       "</div>"
      ],
      "text/plain": [
       "    movieId                                              title  final_score  \\\n",
       "0      6016                City of God (Cidade de Deus) (2002)     3.930651   \n",
       "1      3275                        Boondock Saints, The (2000)     3.911262   \n",
       "2      3266  Man Bites Dog (C'est arrivé près de chez vous)...     3.908095   \n",
       "3     57669                                   In Bruges (2008)     3.892603   \n",
       "4      3030                                     Yojimbo (1961)     3.886709   \n",
       "..      ...                                                ...          ...   \n",
       "5       318                   Shawshank Redemption, The (1994)     3.656070   \n",
       "6      2028                         Saving Private Ryan (1998)     3.638632   \n",
       "7      3147                             Green Mile, The (1999)     3.637223   \n",
       "8      1193             One Flew Over the Cuckoo's Nest (1975)     3.626148   \n",
       "9      1945                           On the Waterfront (1954)     3.622916   \n",
       "\n",
       "    userId  \n",
       "0        1  \n",
       "1        1  \n",
       "2        1  \n",
       "3        1  \n",
       "4        1  \n",
       "..     ...  \n",
       "5       29  \n",
       "6       29  \n",
       "7       29  \n",
       "8       29  \n",
       "9       29  \n",
       "\n",
       "[290 rows x 4 columns]"
      ]
     },
     "execution_count": 37,
     "metadata": {},
     "output_type": "execute_result"
    }
   ],
   "source": [
    "# Generating recommendations for multiple users.\n",
    "results = []\n",
    "\n",
    "for i in range(1, 30):\n",
    "    recommendations = hybrid_recommendations(i, movies, ratings, best_model, genre_similarity, 0.7)\n",
    "    recommendations['userId'] = i\n",
    "    results.append(recommendations)\n",
    "\n",
    "final_df = pd.concat(results)\n",
    "\n",
    "final_df"
   ]
  },
  {
   "cell_type": "markdown",
   "metadata": {},
   "source": [
    "These are the movie recommendations for the selected users.\n",
    "\n",
    "### Evaluating SVD model performance\n",
    "\n",
    "The predicted ratings for the SVD model are compared with the actual user ratings. The function below retrieves predicted ratings for a user then merges these predictions with actual ratings to calculate the RMSE and MAE.\n",
    "\n"
   ]
  },
  {
   "cell_type": "code",
   "execution_count": 38,
   "metadata": {},
   "outputs": [
    {
     "name": "stdout",
     "output_type": "stream",
     "text": [
      "SVD RMSE: 0.6859044446131545, SVD MAE: 0.5370533424020633\n"
     ]
    }
   ],
   "source": [
    "def evaluate_svd(user_id, movies, ratings, best_model):\n",
    "    # Get SVD predictions for all movies\n",
    "    svd_df = get_svd_predictions(user_id, movies, ratings, best_model)\n",
    "\n",
    "    # Get the actual user ratings\n",
    "    user_actual_ratings = ratings[ratings['userId'] == user_id][['movieId', 'rating']]\n",
    "    \n",
    "    # Skip if user has no rated movies in the dataset\n",
    "    merged_df = svd_df.merge(user_actual_ratings, on = 'movieId')\n",
    "\n",
    "    if merged_df.empty:\n",
    "        print(f\"No common movies found for user {user_id}. Skipping evaluation.\")\n",
    "        return None, None\n",
    "\n",
    "    # Calculating RMSE and MAE\n",
    "    rmse = np.sqrt(mean_squared_error(merged_df['rating'], merged_df['svd_score']))\n",
    "    mae = mean_absolute_error(merged_df['rating'], merged_df['svd_score'])\n",
    "\n",
    "    return merged_df, rmse, mae\n",
    "\n",
    "svd_results, svd_rmse, svd_mae = evaluate_svd(35, movies, ratings, best_model)\n",
    "print(f\"SVD RMSE: {svd_rmse}, SVD MAE: {svd_mae}\")"
   ]
  },
  {
   "cell_type": "markdown",
   "metadata": {},
   "source": [
    "The RMSE and MAE for the SVD model predictions for user 35\n",
    "\n",
    "### Evaluating Hybrid Model Performance \n",
    "\n",
    "The function below calculates the RMSE and MAE by merging hybrid model predictions with the user's actual ratings."
   ]
  },
  {
   "cell_type": "code",
   "execution_count": 39,
   "metadata": {},
   "outputs": [
    {
     "name": "stdout",
     "output_type": "stream",
     "text": [
      "   movieId                                           title  final_score  \\\n",
      "0     1172  Cinema Paradiso (Nuovo cinema Paradiso) (1989)     3.839680   \n",
      "1   112552                                 Whiplash (2014)     3.818846   \n",
      "\n",
      "   rating  \n",
      "0     5.0  \n",
      "1     4.5  \n",
      " Hybrid RMSE: 0.9513974753639586, Hybrid MAE: 0.9207372445440569\n"
     ]
    }
   ],
   "source": [
    "def evaluate_hybrid(user_id, movies, ratings, best_model, genre_similarity, alpha = 0.7):\n",
    "    \n",
    "    \"\"\"\n",
    "    best_model: Trained SVD model for CF.\n",
    "    genre_similarity: Cosine similarity matrix for genres.\n",
    "    alpha: Weight parameter to balance SVD and genre-based filtering.\n",
    "    \"\"\"\n",
    "    # Get hybrid recommendations for a user\n",
    "    hybrid_df = hybrid_recommendations(user_id, movies, ratings, best_model, genre_similarity, alpha)\n",
    "    \n",
    "    # Accessing the actual user ratings\n",
    "    user_actual_ratings = ratings[ratings['userId'] == user_id][['movieId', 'rating']]\n",
    "    \n",
    "    # Merging predictions with actual ratings\n",
    "    merged_df = hybrid_df.merge(user_actual_ratings, on = 'movieId')\n",
    "\n",
    "    # Skip if merged dataframe is empty\n",
    "    if merged_df.empty:\n",
    "        print(f\"No common movies found for user {user_id}. Skipping evaluation.\")\n",
    "        return None, None, None\n",
    "\n",
    "    # Calculate the RMSE and MAE\n",
    "    rmse = np.sqrt(mean_squared_error(merged_df['rating'], merged_df['final_score']))\n",
    "    mae = mean_absolute_error(merged_df['rating'], merged_df['final_score'])\n",
    "\n",
    "    return merged_df, rmse, mae\n",
    "\n",
    "hybrid_results, hybrid_rmse, hybrid_mae = evaluate_hybrid(300, movies, ratings, best_model, genre_similarity)\n",
    "\n",
    "print(hybrid_results)\n",
    "print(f\" Hybrid RMSE: {hybrid_rmse}, Hybrid MAE: {hybrid_mae}\")"
   ]
  },
  {
   "cell_type": "markdown",
   "metadata": {},
   "source": [
    "The RMSE and MAE for the hybrid model prediction for user 300"
   ]
  },
  {
   "cell_type": "code",
   "execution_count": 40,
   "metadata": {},
   "outputs": [
    {
     "name": "stdout",
     "output_type": "stream",
     "text": [
      "Evaluating for User 553...\n",
      "Evaluating for User 297...\n",
      "Evaluating for User 31...\n",
      "Evaluating for User 216...\n",
      "Evaluating for User 264...\n",
      "Evaluating for User 50...\n",
      "Evaluating for User 407...\n",
      "Evaluating for User 386...\n",
      "Evaluating for User 138...\n",
      "Evaluating for User 84...\n",
      "   userId  SVD RMSE   SVD MAE  Hybrid RMSE  Hybrid MAE\n",
      "0     553  0.557712  0.470218     0.934354    0.933116\n",
      "1     297  0.880068  0.762237     1.788235    1.733715\n",
      "2      31  0.848540  0.666831     1.354239    1.351268\n",
      "3     216  0.799418  0.685345     1.528903    1.528233\n",
      "4     264  0.894956  0.743025     1.103479    0.880347\n",
      "5      50  0.639038  0.511185     1.395709    1.361172\n",
      "6     407  0.750775  0.637241     1.125811    1.044221\n",
      "7     386  0.728768  0.556242     2.044957    2.044957\n",
      "8     138  1.219954  1.039118     1.567309    1.566913\n",
      "9      84  0.592305  0.462126     1.287240    1.205508\n"
     ]
    }
   ],
   "source": [
    "# Select 10 random user IDs from the ratings dataset\n",
    "random.seed(30)\n",
    "random_user_ids = random.sample(ratings['userId'].unique().tolist(), 10)\n",
    "\n",
    "# Store results\n",
    "results = []\n",
    "\n",
    "for user_id in random_user_ids:\n",
    "    print(f\"Evaluating for User {user_id}...\")\n",
    "\n",
    "    svd_results, svd_rmse, svd_mae = evaluate_svd(user_id, movies, ratings, best_model)\n",
    "    hybrid_results, hybrid_rmse, hybrid_mae = evaluate_hybrid(user_id, movies, ratings, best_model, genre_similarity)\n",
    "\n",
    "    results.append({\n",
    "        \"userId\": user_id,\n",
    "        \"SVD RMSE\": svd_rmse,\n",
    "        \"SVD MAE\": svd_mae,\n",
    "        \"Hybrid RMSE\": hybrid_rmse,\n",
    "        \"Hybrid MAE\": hybrid_mae\n",
    "    })\n",
    "\n",
    "# Convert results to a DataFrame for better visualization\n",
    "results_df = pd.DataFrame(results)\n",
    "print(results_df)"
   ]
  },
  {
   "cell_type": "markdown",
   "metadata": {},
   "source": [
    "The next step to compare the performance of the model is to visualize the average RMSE and MAE for each model across randomly selected users which will help us understand the accuracy of the recommendations produced by each model in a more clear way. We'll use a barplot, scatter plot, and KDE plot."
   ]
  },
  {
   "cell_type": "code",
   "execution_count": 41,
   "metadata": {},
   "outputs": [
    {
     "data": {
      "image/png": "[encoded data removed]",
      "text/plain": [
       "<Figure size 864x360 with 2 Axes>"
      ]
     },
     "metadata": {
      "needs_background": "light"
     },
     "output_type": "display_data"
    }
   ],
   "source": [
    "# Set up figure\n",
    "fig, axes = plt.subplots(1, 2, figsize = (12, 5))\n",
    "\n",
    "# RMSE Comparison\n",
    "sns.barplot(x = [\"SVD\", \"Hybrid\"], y = [results_df[\"SVD RMSE\"].mean(), results_df[\"Hybrid RMSE\"].mean()], ax = axes[0], palette = \"coolwarm\",\n",
    "            hue = [\"SVD\", \"Hybrid\"])\n",
    "axes[0].set_title(\"Average RMSE Comparison\")\n",
    "axes[0].set_ylabel(\"RMSE\")\n",
    "\n",
    "# MAE Comparison\n",
    "sns.barplot(x = [\"SVD\", \"Hybrid\"], y=[results_df[\"SVD MAE\"].mean(), results_df[\"Hybrid MAE\"].mean()], ax = axes[1], palette = \"coolwarm\",\n",
    "            hue = [\"SVD\", \"Hybrid\"])\n",
    "axes[1].set_title(\"Average MAE Comparison\")\n",
    "axes[1].set_ylabel(\"MAE\")\n",
    "\n",
    "plt.tight_layout()\n",
    "plt.show()"
   ]
  },
  {
   "cell_type": "markdown",
   "metadata": {},
   "source": [
    "The SVD model has an average RMSE of ~0.8 and an average MAE of ~0.7 compared to the average RMSE and MAE of the Hybrid model which are ~1.3 and ~1.2 respectively. The SVD model outperforms the Hybrid model."
   ]
  },
  {
   "cell_type": "code",
   "execution_count": 42,
   "metadata": {},
   "outputs": [
    {
     "name": "stdout",
     "output_type": "stream",
     "text": [
      "No common movies found for user 535. Skipping evaluation.\n",
      "Warning: No results found for User 535. Skipping...\n",
      "No common movies found for user 544. Skipping evaluation.\n",
      "Warning: No results found for User 544. Skipping...\n",
      "No common movies found for user 576. Skipping evaluation.\n",
      "Warning: No results found for User 576. Skipping...\n",
      "No common movies found for user 507. Skipping evaluation.\n",
      "Warning: No results found for User 507. Skipping...\n",
      "No common movies found for user 320. Skipping evaluation.\n",
      "Warning: No results found for User 320. Skipping...\n"
     ]
    },
    {
     "data": {
      "image/png": "[encoded data removed]",
      "text/plain": [
       "<Figure size 720x360 with 1 Axes>"
      ]
     },
     "metadata": {
      "needs_background": "light"
     },
     "output_type": "display_data"
    }
   ],
   "source": [
    "# Select 30 random user IDs\n",
    "random_user_ids = random.sample(ratings['userId'].unique().tolist(), 30)\n",
    "\n",
    "# Store merged results for all users\n",
    "all_svd_merged = []\n",
    "all_hybrid_merged = []\n",
    "\n",
    "for user_id in random_user_ids:\n",
    "    # Get predictions for the current user\n",
    "    svd_results, _, _ = evaluate_svd(user_id, movies, ratings, best_model)\n",
    "    hybrid_results, _, _ = evaluate_hybrid(user_id, movies, ratings, best_model, genre_similarity)\n",
    "\n",
    "    # Making sure that user's rating exists for the movie\n",
    "    if svd_results is not None and hybrid_results is not None:\n",
    "        \n",
    "        # Merge with actual ratings\n",
    "        actual_ratings = ratings[ratings[\"userId\"] == user_id][[\"movieId\", \"rating\"]]\n",
    "        svd_merged = svd_results.merge(actual_ratings, on = \"movieId\")\n",
    "        hybrid_merged = hybrid_results.merge(actual_ratings, on = \"movieId\")\n",
    "\n",
    "        # Append to the lists\n",
    "        all_svd_merged.append(svd_merged)\n",
    "        all_hybrid_merged.append(hybrid_merged)\n",
    "    else:\n",
    "        # If user does not have a rating for a movie\n",
    "        print(f\"Warning: No results found for User {user_id}. Skipping...\")\n",
    "\n",
    "# Concatenate results for all users\n",
    "if all_svd_merged and all_hybrid_merged:\n",
    "    svd_merged_all = pd.concat(all_svd_merged)\n",
    "    hybrid_merged_all = pd.concat(all_hybrid_merged)\n",
    "\n",
    "svd_merged_all = pd.concat(all_svd_merged)\n",
    "hybrid_merged_all = pd.concat(all_hybrid_merged)\n",
    "\n",
    "# Scatter plot for predictions vs actual ratings\n",
    "plt.figure(figsize = (10, 5))\n",
    "plt.scatter(svd_merged_all[\"rating_x\"], svd_merged_all[\"svd_score\"], label = \"SVD\", alpha = 0.6)\n",
    "plt.scatter(hybrid_merged_all[\"rating_x\"], hybrid_merged_all[\"final_score\"], label = \"Hybrid\", alpha = 0.6)\n",
    "\n",
    "plt.plot([0, 5], [0, 5], \"--\", color = \"gray\")\n",
    "plt.xlabel(\"Actual Ratings\")\n",
    "plt.ylabel(\"Predicted Ratings\")\n",
    "plt.title(\"Predicted vs Actual Ratings for 30 Users\")\n",
    "plt.legend()\n",
    "plt.show()"
   ]
  },
  {
   "cell_type": "code",
   "execution_count": 43,
   "metadata": {},
   "outputs": [
    {
     "data": {
      "image/png": "[encoded data removed]",
      "text/plain": [
       "<Figure size 720x360 with 1 Axes>"
      ]
     },
     "metadata": {
      "needs_background": "light"
     },
     "output_type": "display_data"
    }
   ],
   "source": [
    "svd_errors = svd_merged_all[\"svd_score\"] - svd_merged_all[\"rating_x\"]\n",
    "hybrid_errors = hybrid_merged_all[\"final_score\"] - hybrid_merged_all[\"rating_x\"]\n",
    "\n",
    "plt.figure(figsize = (10, 5))\n",
    "sns.kdeplot(svd_errors, label = \"SVD Errors\", fill = True, color = \"blue\", alpha = 0.6)\n",
    "sns.kdeplot(hybrid_errors, label = \"Hybrid Errors\", fill = True, color = \"red\", alpha = 0.6)\n",
    "\n",
    "plt.axvline(0, color = \"black\", linestyle = \"dashed\", linewidth = 1)\n",
    "plt.xlabel(\"Prediction Error\")\n",
    "plt.ylabel(\"Density\")\n",
    "plt.title(\"Error Distribution of SVD vs Hybrid Model\")\n",
    "plt.legend()\n",
    "plt.show()"
   ]
  },
  {
   "cell_type": "markdown",
   "metadata": {},
   "source": [
    "The Hybrid Model appears to be biased negatively but appears to be more consistent and has lower error variance. Since the goal is to have errors closer to zero on average, the SVD model is more preferable but its spread suggests that it's inconsistent.\n",
    "\n",
    "### Conclusion\n",
    "In this Analysis, we evaluated the performance of different models for predicting movie ratings; SVD and a Hybrid model. Though the hybrid model was more consistent, the goal was to have errors close to zero on average which is why the SVD model is more preferable.\n",
    "\n",
    "Next Steps:\n",
    "\n",
    "* **Model Tuning**: Further hyperparameter tuning for both models.\n",
    "\n",
    "* **Hybrid model enhancements**: Advanced hybridization techniques such as weighted blending or even adding more CBF should be considered to help reduce hybrid model's bias and improve performance.\n",
    "\n",
    "* **Cold-Start Problem**: In the analysis, we attempted to solve the problem using global genre preference. Popularity-Based Recommendatoins should also be considered to try and address the problem."
   ]
  },
  {
   "cell_type": "code",
   "execution_count": null,
   "metadata": {},
   "outputs": [],
   "source": []
  }
 ],
 "metadata": {
  "kernelspec": {
   "display_name": "Python 3",
   "language": "python",
   "name": "python3"
  },
  "language_info": {
   "codemirror_mode": {
    "name": "ipython",
    "version": 3
   },
   "file_extension": ".py",
   "mimetype": "text/x-python",
   "name": "python",
   "nbconvert_exporter": "python",
   "pygments_lexer": "ipython3",
   "version": "3.8.5"
  }
 },
 "nbformat": 4,
 "nbformat_minor": 2
}
